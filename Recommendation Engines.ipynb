{
 "cells": [
  {
   "cell_type": "markdown",
   "metadata": {},
   "source": [
    "# I. Introduction\n",
    "## A. What is Recommendation Engine?\n",
    "## B. Evolution of Recommendation Engine\n",
    "## C. Examples of Uses of Recommendation Engine\n",
    "\n",
    "\n",
    "# II. Types of Recommendation Engines\n",
    "## A. Neighborhood-based Recommendation Engines\n",
    "### 1. Collaborative Filtering Systems\n",
    "#### a. User-based Collaborative Filtering\n",
    "#### b. Item-based Collaborative Filtering\n",
    "#### c. Memory-based Collaborative Filtering\n",
    "#### d. Model-based Collaborative Filtering\n",
    "### 2. Personalized Recommendation Engines\n",
    "#### a. Content-based Recommendation Engines\n",
    "#### b. Context-based Recommendation Engines\n",
    "## B. Hybrid Recommendation Engines\n",
    "### 1. Weighted Method\n",
    "### 2. Mixed Method\n",
    "### 3. Cascade Method\n",
    "### 4. Feature Combination Method\n",
    "## C. Machine Learning\n",
    "### 1. Dimensionary Reduction\n",
    "#### a. SVD - Snigle Value Decomposition\n",
    "#### b. PCA - Principle Component Analysis (Burayı genişleyecek)\n",
    "#### c. LDA - Linear Discriminant Analysis\n",
    "### 2. Clustering and Classification Algorithms\n",
    "#### a. K-NN - K-Nearest Neighborhood\n",
    "#### b. K-Means\n",
    "### 3. Regression Methods\n",
    "#### a. Linear Regression\n",
    "\n",
    "# III. Building Recommendation Engine\n",
    "## A.Exploring the Jester5k Dataset\n",
    "### 1. Details About Dataset\n",
    "### 2. Exploring the Dataset\n",
    "## B. Building User-based Collaborative Filtering With Recommenderlab\n",
    "### 1. Preparing Training and Test Data\n",
    "### 2. Creating a User-based Collaborative Model\n",
    "### 3. Predictions on the Test Set\n",
    "### 4. Analyzing the Dataset\n",
    "### 5. Creating the Recommendation Model With the k-Fold Cross-Validation\n",
    "### 6. Designing User-Based Collaborative Filtering\n",
    "## C. Building an Item-based Recommender Model\n",
    "### 1. Preparing Training and Test Data\n",
    "### 2. Creating a Item-based Collaborative Model\n",
    "### 3. Evaluating the Model\n",
    "### 4. Accuracy of the Model\n",
    "### 5. Model Accuracy With Plots\n",
    "### 6. Setting Parameter for Item-based Collaborative Filtering\n",
    "\n",
    "# IV. Analysis of Results\n",
    "\n",
    "# V. Refences"
   ]
  },
  {
   "cell_type": "markdown",
   "metadata": {},
   "source": [
    "# I. Introduction\n",
    "## A. What is Recommendation Engine?\n",
    "    \n",
    "In real life one decides to buy an item based on their own taste, suggestions from their friends and family and their own experience, but nowadays the digital world has grown into something that goes beyond asking around to buy something, simply because everything is now faster and more achievable over the digital world, and the buying experience (this can be anything, from buying plane tickets to a vacation, buying a shower gel to hiring a tutoring service etc.) slowly changing, evolving into a more digitized and personal experience rather than a social one.\n",
    "\n",
    "In this digital age the recommendation systems seem to have gained an important place for themselves. In fact, they are the ones to create the real-time, personalized, current and present experience for the users. Recommendation systems use huge chunks of data to analyze to give the most accurate suggestions for the users. They merely facilitate the choosing process, by narrowing down the options for the user, in which they are predicted to be interested.\n",
    "\n",
    "In mathematical terms;\n",
    "\n",
    "If $U$ denotes users, $I$ denotes items then $F$ denotes utility function and computes the usefulness of item $I$ to user $U$, given by:\n",
    "\n",
    "$$ F: U \\times I \\to [0, \\infty)  $$\n",
    "\n",
    "For each user $u$, we want to choose the item $i$ that maximizes the objective function: for a fixed user $u \\in U$,\n",
    "\n",
    "$$ R(u) = argmax_{i \\in I} F(u,i)$$\n",
    "\n",
    "Where $R$ denotes recommended items."
   ]
  },
  {
   "cell_type": "markdown",
   "metadata": {},
   "source": [
    "## B. Evolution of Recommendation Engine\n",
    "\n",
    "Digital recommendation systems might seem like a new concept, but we can say that there is prior art. We can talk about suggestion and recommendation where there is sharing. This is also true for the animals. Ants for example use a recommendation system in order to tell the rest of the clan. A pioneer ant leaves a mark which can be considered as a recommending system, in which the others know where to find food. This applies differently in humans, because we have language to communicate and taste to determine the preferences. There are people around us that we trust with suggestions, because we feel like they know us, and others not so much. Because we think that they do not fully understand us or our preferences. So when we need to decide on something to buy, we consult the ones we trust. We think that they are going to direct us in a way that coincides with our preferences, whether because they have made suggestions before and we were satisfied or simply because they understand us. It will not be wrong to assume that the recommendation engines of today takes the human nature as basis to make suggestions. \n",
    "\n",
    "Recommender engines evolved in the mid 1970's in Duke University as an independent research area. Since then, a lot of approaches were developed. The first recommender system to be used was Tapestry<sup>1</sup> , which was developed at the Xerox  Palo  Alto  Research Centre. The motivation behind this, was to sort out the unnecessary and irrelevant e-mails from the relevant ones. To overcome this problem, a mailing list was defined for each user, and if an incoming e-mail was out of this list, it would fall into the spam box. After this, recommender engines started to be used by various, popular internet sites such as, Amazon, Netflix, Social & Professional Networking Sites, Travel sites etc. Recommendation engines incorporated Artificial Intelligence, Information retrieval and Human-computer  interaction along the way of its development, in order to create more accurate and precise suggestion systems.<sup>2</sup>"
   ]
  },
  {
   "cell_type": "markdown",
   "metadata": {},
   "source": [
    "## C. Examples of Uses of Recommendation Engine\n",
    "\n",
    "#### LinkedIn\n",
    "LinkedIn is a social network site for professionals in which proposals are framed for individuals you may know, occupations you may like, business groupes you should pursue based on your interests, skills and experiences, or organizations you may be keen on. LinkedIn utilizes Apache Hadoop to fabricate its specific communitarian separating abilities.\n",
    "\n",
    "#### Amazon\n",
    "Amazon is one of the largest web-based retailers. It utilizes content-based recommendation; when you select to buy something, the site suggests different items based on different clients' obtained dependent on that one unique item (as a matrix of thing to-probability-of-next-thing to buy). So, basically, Amazon, recommends next-item-to-be-bought, based on other clients' content data which are similar to yours. Amazon called this recommendation and filtering system \"item-to-item collaborative filtering\".\n",
    "\n",
    "#### Netflix\n",
    "Netflix is streaming service, which allows its customers to stream movies, TV series, documentaries etc. based on and by comparing your data to other customers' interests. Netflix offers a large number of content, thus it becomes almost impossible to find something that appeals to you if there is no one to guide you, unless you are seeking a specific thing. This site uses hybrid recommender systems, which begins by looking at your search history and review tendency for clients with similar interests.\n",
    "\n",
    "#### Spotify\n",
    "Spotify is a Swedish sound streaming platform that gives DRM-shielded music and digital broadcasts. This platform blends the methodologies to come up with the most-likely-to-be-liked-by-the-listener playlist every week, which is the Discover Weekly Playlist. Spotify uses collaborative filtering in order to create the best version of a new playlist that the user may like. We are going to talk about collaborative filtering in the sections below."
   ]
  },
  {
   "cell_type": "markdown",
   "metadata": {},
   "source": [
    "# II. Types of Recommendation Engines\n",
    "\n",
    "## A. Neighborhood-based Recommendation Engines\n",
    "\"The idea for neighborhood-based recommenders is very simple: given the ratings of a user, find all the users similar to the active user who had similar preferences in the past and then make predictions regarding all unknown products that the active user has not rated but are being rated in their neighborhood.\"<sup>3</sup> The user called \"active\" is the one that is actively being recommended by the system. These types of recommendation engines are also called \"similarity-based recommender systems\"<sup>4</sup>, simply because the recommendations are made considering the similarities. Also, another nomenclature is applicable, \"collaborative filtering\", since the data is used collaboratively from a pool of users.\n",
    "\n",
    "\"<b>These heuristic-based methods are based on the following assumptions:</b>\n",
    "- People with similar preferences in the past have similar preferences in the future\n",
    "- People's preferences will remain stable and consistent in the future\n",
    "\n",
    "<b>The collaborative filtering systems come in two flavors:</b>\n",
    "- User-based collaborative filtering\n",
    "- Item-based collaborative filtering\" <sup>5</sup>\n",
    "\n",
    "These methods are used when we only can obtain the user's interaction data (e.g. ratings, like/unlike, etc.). The properties of the products of the personal interests of the users in them are not taken into account.\n",
    "\n",
    "### 1. Collaborative Filtering Systems\n",
    "#### a. User-based Collaborative Filtering\n",
    "As we have mentioned earlier, collaborative filtering assumes that people with similar preferences in the past will have similar preferences in the future. Therefore, if $X$ buys a certain item and $X$ and $Y$ have similar tastes, $Y$ would also be interested in buying the same item even though he hasn't seen it yet.\n",
    "\n",
    "To summarize in two steps:\n",
    "1. Calculating the similarities between users in the pool, considering their interaction with the item.\n",
    "2. Predicting the unknown interaction of the active user of this new product and suggesting it accordingly.\n",
    "\n",
    "#### b. Item-based Collaborative Filtering\n",
    "Unlike user-based collaborative filtering, item-based collaborative filtering takes into account only the items and that active user's interaction with that item. To explain further, if the active user purchased item $U$, and item $Z$ and $U$ are similar to one another, then it is likely that, the active user will be interested in the item $Z$.\n",
    "\n",
    "Similar to user-based collaborative filtering there are two steps:\n",
    "1. Calculating the similarities between items of active users.\n",
    "2. Predicting the unknown item's likelihood of serving the active user's taste, using the same user's ratings of other items already purchased.\n",
    "\n",
    "###### Comparison \n",
    "Basically, we can say that item-based collaborative filtering looks like a more promising method. Simply because in user-based collaborative filtering, the users' ratings have the disadvantage of changing the data pool and expanding it every time the similar users' experience changes. Thus creating a bigger data pool to be dealt with, whereas in item-based collaborative filtering the data pool that is computed to suggest a new item every time is the active user's own ratings which makes it cost-wise more efficient. On the other hand, it is important to consider that the item-based collaborative filtering method performs poorly when we have very little data (e.g. when dealt with a new user with no data - cold-start problem - or a new user with a very few data on hand), and it fails to suggest very accurate recommendations since it is only based on rating info.\n",
    "\n",
    "#### c. Memory-Based Collaborative Filtering \n",
    "\n",
    "The memory-based method utilizes user rating data to process the similarities between users or items. Representative examples of this method are neighborhood-based CF and item-based/user-based top-N suggestions. For instance, in user-based methods, the estimation of ratings user $u$ provides for item $i$ is determined as a collection of some comparable users' rating of the item:\n",
    "\n",
    "$$r_{u,i}=\\operatorname {aggr} _{u^{\\prime }\\in U}r_{u^{\\prime },i}$$ \n",
    "\n",
    "where $U$ signifies the arrangement of top $N$ users that are most like the user $u$ who rated item $i$. A few instances of the aggregation function incorporates:\n",
    "\n",
    "$$r_{u,i}={\\frac {1}{N}}\\sum \\limits _{u^{\\prime }\\in U}r_{u^{\\prime },i}$$ \n",
    "$$r_{u,i}=k\\sum \\limits _{u^{\\prime }\\in U}\\operatorname {simil} (u,u^{\\prime })r_{u^{\\prime },i}$$\n",
    "where k is a normalizing element defined as \n",
    "$$k=\\frac {1}{\\sum _{u^{\\prime }\\in U}|\\operatorname {simil} (u,u^{\\prime })|},$$ and\n",
    "\n",
    "$$r_{u,i}={\\bar {r_{u}}}+k\\sum \\limits _{u^{\\prime }\\in U}\\operatorname {simil} (u,u^{\\prime })(r_{u^{\\prime },i}-{\\bar {r_{u^{\\prime }}}})$$\n",
    "where ${\\bar {r_{u}}}$ is the average rating of user u for all the items rated by $u$.\n",
    "\n",
    "The neighborhood-based algorithm computes the similitude between two users or items and produces a prediction for the user by taking the weighted average of the sum of the ratings. Similarity computation between items or users is a significant component of this method. Various measures, for example, Pearson correlation and vector cosine-based similarity are utilized for this.\n",
    "\n",
    "The Pearson correlation similarity of two users $x, y$ is characterized as\n",
    "\n",
    "$\\operatorname {simil} (x,y)={\\frac {\\sum \\limits _{i\\in I_{xy}}(r_{x,i}-{\\bar {r_{x}}})(r_{y,i}-{\\bar {r_{y}}})}{{\\sqrt {\\sum \\limits _{i\\in I_{xy}}(r_{x,i}-{\\bar {r_{x}}})^{2}}}{\\sqrt {\\sum \\limits _{i\\in I_{xy}}(r_{y,i}-{\\bar {r_{y}}})^{2}}}}}$ <br>\n",
    "where I<sub>xy</sub> is the set of items rated by both user $x$ and user $y$.\n",
    "\n",
    "The cosine-based approach defines the cosine-similarity between two users $x$ and $y$ as:\n",
    "\n",
    "$$\\operatorname {simil} (x,y)=\\cos({\\vec {x}},{\\vec {y}})={\\frac {{\\vec {x}}\\cdot {\\vec {y}}}{||{\\vec {x}}||\\times ||{\\vec {y}}||}}={\\frac {\\sum \\limits _{i\\in I_{xy}}r_{x,i}r_{y,i}}{{\\sqrt {\\sum \\limits _{i\\in I_{x}}r_{x,i}^{2}}}{\\sqrt {\\sum \\limits _{i\\in I_{y}}r_{y,i}^{2}}}}}$$\n",
    "\n",
    "The user-based top-N recommendation algorithm utilizes a similarity based vector model to distinguish the k most similar users to an active user. After the k most similar users are discovered, their relating user-item matrices are combined to distinguish the set of items to be suggested. A preferred method to locate similar users is the locality-sensitive hashing, which executes the closest neighbor system in linear time. \n",
    "\n",
    "The advantaged of this method contains the reasonableness of the outcomes, which is a significant part of recommendation systems; simple creation and use; simple facilitation of new data; content-autonomy of the items being suggested; good scaling with co-rated items.\n",
    "\n",
    "There are additionally a few drawbacks with this method. Its performance reduces when data is limited, which happens regularly with web-related items. This ruins the versatility of this method and creates issues with very big data-sets. In spite of the fact that it can effectively deal with new users since it depends on a data structure, including new items becomes more complex since that portrayal more often than not depends on a particular vector space. Including new items requires incorporation of the new item and the re-addition of the total number of components in the structure.\n",
    "\n",
    "#### d. Model-Based Collaborative Filtering \n",
    "\n",
    "In this method, models are created utilizing various data mining, machine learning algorithms to foresee users' rating of unrated items. There are many model-based CF algorithms. Bayesian networks, clustering models, latent semantic models, for example, singular value decomposition, probabilistic latent semantic analysis, multiple multiplicative factors, latent Dirichlet allocation, and Markov decision process based models.\n",
    "\n",
    "Through this method, dimensionality reduction methods are generally being used as a corresponding technique to improve the validity and exactness of the memory-based method. In this sense, methods like singular value decomposition, guideline element analysis, known as latent factor models, pack user-item matrix into a low-dimensional portrayal as far as latent elements. One vantage point of utilizing this method is that as opposed to having a high dimensional matrix containing a large number of missing values we will manage a lot smaller matrix in lower-dimensional space. A diminished introduction could be used for either user-based or item-based neighborhood algorithms that are previously mentioned. There are a few points of interest in this paradigm. It handles the sparsity compared to memory-based methods. Additionally, the resulting matrix is significantly more adaptable, particularly in managing big limited data sets.\n",
    "\n",
    "### 2. Personalized Recommendation Engines\n",
    "We can say that personalized recommendation engines function better in delivering more personalized recommendations because they take more factors into consideration. We can categorize content-based recommendation engines and context-based recommendation engines under personalized recommendation engines.\n",
    "\n",
    "#### a. Content-based recommendation engines\n",
    "A recommendation that aims to create more individualized suggestions and thus producing a more personalized experience to users through the active users' individual taste and preferences, based on the content of the products, is called a content-based recommendation engine. In spite of being a more individualized recommendation method, a content-based recommendation engine solves the cold-start problem that collaborative filtering systems come across. By initially demanding the user's preferences, this problem seems to dissolve.\n",
    "\n",
    "\"Three steps of content-based recommendation engines:\n",
    "1. Generating content information for products.\n",
    "2. Generating a user profile and preferences with respect to the features of the products.\n",
    "3. Generating recommendations and predicting a list of items that the user might like.\" <sup></sup>\n",
    "\n",
    "Simply put, a content-based recommendation engine considers both product content and the user profile to generate a more individualized recommendation, creating a more personalized experience. \n",
    "\n",
    "<b>Item profile generation:</b>\n",
    "In this step, the products are examined by their features. The products and their features are represented in a vector space model, this means the content of the product is portrayed. By doing so, the relative importance of the products’ features is laid out.\n",
    "\n",
    "<b>User profile generation:</b>\n",
    "This step calls for a matrix that matches the products’ content and with user profiles. User profile generation is crucial for content-based recommendation engines because by doing so, the data obtain more meaning by cross-referencing the item and user profiles. Thus, the similarities between them come out, revealing a meaningful recommendation path.\n",
    "\n",
    "#### b. Context-aware recommendation engines\n",
    "Context simply gives us the advantage to understand the state of the user. Understanding the context that the users are in, such as place, weather, time, season, state of mind, device, location of home or office, life events, etc., help us apprehend the context information and recommend a customized and more personalized item.\n",
    "\n",
    "To better understand we can give the following examples; if an e-retail website can know that a user is going on a gala of some sort, it can recommend a nightgown or a tux, or if an airline e-retailer understands the user’s wish to visit another country or city, it can recommend plane ticket campaigns accordingly.\n",
    "\n",
    "Context-aware recommendation engines give us the opportunity to look at a two-dimensional problem, which only contained the preference and the item, in three-dimensions, adding the context as the third dimension. This helps narrow down the recommendation options.\n",
    "\n",
    "The two steps of the context-based recommendation engine:\n",
    "1.    Generate content-based recommendations.\n",
    "2.    Take the content-based recommendations and add the third dimension, context, and filter the recommendations by it.\n",
    "\n",
    "There are two options as to when to use the context information.\n",
    "1.    Pre-filtering approach\n",
    "2.    Post-filtering approach\n",
    "\n",
    "<b>Pre-filtering approach</b>\n",
    "In this approach, the context information is used to filter out a context relevant item and preference content, so the final personalized recommendations are generated by using the three dimensions. The context information is added to the equation **before** generating personalized recommendations from the item content and user preference based information, therefore it is called the pre-filtering approach.\n",
    "\n",
    "<b>Post-filtering approach</b>\n",
    "This approach applies the context information **after** forming a personalized data through item content and user preferences are used to generate a list by the content-based recommendation engine. Here, the context information is applied to rule out the irrelevant recommendations generated through the content-based recommendation engine.\n",
    "\n",
    "###### Comparison \n",
    "Context-based recommendation engines incorporate content-based recommendations adding the context element helping even more specific suggestions to be made. Although content-based recommendation engines lack the context dimension, it has a surprise element in which the context-based recommendation engines do not deliver. In being too precise, the context-based recommendations show the items that the user will most probably buy even without a recommendation system, but it misses out on the chance to show a different item to the user, to direct them on a different path.\n",
    "\n",
    "These systems, both content and context-based, rather than using a pool of users to generate suggestions, they generate them according to the user’s preference and this user’s only, taking it to a more personalized level, as mentioned before. This increases the likelihood of the recommended item to be purchased, compared to the collaborative approaches. But by doing this, the users are only shown the items that are similar to their taste, content-wise, this means that they are going to miss out on the trending items. Also, these systems seem to have surpassed the cold-start problem.\n",
    "\n",
    "Even though both content and context-based recommendation systems have a real-time feel, context-based offers a more real service in its nature, by taking it further ahead by understanding the setting and the behavior of the user, staying more present than the content-based recommendation systems.\n",
    "\n",
    "## B. Hybrid Recommendation Engines\n",
    "Collaborative filtering and content-based recommendation systems have proven to be effective and serve needs in broad scope, but they each have their own limitations. This promoted a new way of using them, in combinations. This type of combined usage is called hybrid recommendation engines. Using these types of combined methods, we get more improved accuracy.\n",
    "\n",
    "### 1. Weighted method \n",
    "Toward the start of the arrangement of this weighted hybrid recommendation engine, equivalent loads will be given to each of the outcomes from accessible recommendation engines, and step by step the loads will be adjusted by assessing the reactions from the users to recommendations.\n",
    "### 2. Mixed Method\n",
    "This system is generally utilized in spots where it is not attainable to accomplish a score for an item by all the accessible recommender systems in view of data sparsity. So, recommendations are generated independently and are combined before something is suggested to the user.\n",
    "### 3. Cascade Method\n",
    "In this method, suggestions are produced using collaborative filtering, after that the content-based recommendation method is applied. Later on the last proposals are given to the user.\n",
    "### 4. Feature Combination Method\n",
    "In this method, both User-Item preferences drawn out from the content-based recommendation system and user-item ratings information is used to create a new hybrid recommendation engine.\n",
    "\n",
    "## C. Machine Learning\n",
    "### 1. Dimensionary Reduction\n",
    "#### a. SVD (Singular Value Decomposition)\n",
    "If $A$ is an $m\\times n$ real matrix with $m>n$, then $A$ can be written using a alleged singular value decomposition of the form\n",
    "\n",
    "$$A=UDV^T.$$    \n",
    " \n",
    "Notice that, there are several conflicting notational conventions in use in the literature. Press *et al.* (1992) define $U$ to be an $m \\times n$ matrix, $D$ as $n\\times n$, and $V$ as $n \\times n$<sup>7</sup>. In this system, $U$ and $V$ have orthogonal columns so that;\n",
    "\n",
    "$$U^TU=I$$\n",
    "\n",
    "and\n",
    "\n",
    "$$V^TV=I$$\n",
    "\n",
    "(where the two identity matrices may have different dimensions), and $D$ has entries only along the diagonal. For a complex matrix $A$, the singular value decomposition is a decomposition into the form\n",
    "\n",
    "$$A=UDV^H$$,     \n",
    "\n",
    "where $U$ and $V$ are unitary matrices, $V^H$ is the conjugate transpose of $V$, and $D$ is a diagonal matrix whose components are the singular values of the original matrix. If $A$ is a complex matrix, then there always exists such a decomposition with positive singular values<sup>8</sup>.\n",
    "\n",
    "#### b. PCA - Principle Component Analysis \n",
    "PCA is a dimensionality-rebate method that is generally used to diminish the dimensionality of huge data sets, by transforming a large collection of variables into a smaller one that still involves most of the knowledge in the huge set. PCA algorithm works like below;\n",
    "1. The analysis begin with the covariance matrix. All covariance of all the original variables needs to be calculated. Then the covariance matrix will be made\n",
    "2. For this covariance matrix, we will compute the eigenvectors and eigenvalues\n",
    "3. Each eigenvector would be a column vector with the same number of components as the variables in the first dataset. Hence that we had an initial dataset of the size $T \\times n$ (rows are the perceptions, columns stand for variables, $T$ is the observations), the covariance matrix would be of the size $n \\times n$, and each of the eigenvectors will be $n \\times 1$.\n",
    "4. The eigenvalues for each of the eigenvectors stand for the measure of variance that the given eigenvector represents. We set up the eigenvectors in descending order of the eigenvalues, and pick the best 2, 3 or the same number of eigenvalues that we are concerned how much variance we need to catch in our model. If we incorporate all the eigenvectors, at that point we would have caught all the variance yet this would not give us any favorable position over our initial data.\n",
    "\n",
    "#### c. LDA - Linear Discriminant Analysis \n",
    "LDA is also a dimensionality-rebate technique but it is a supervised method. LDA tries to accomplish to opposing goals at the same time: \n",
    "\n",
    "1. It tries to keep classes as compact as possible within themselves, \n",
    "2. It tries to separate class centroids as far as possible.\n",
    "\n",
    "LDA can be attained in three steps : \n",
    "1. Determining the divisibility between various classes. \n",
    "$$ S_b=\\sum_{i=1}^g N_i(\\overline x_i - \\overline x)(\\overline x_i - \\overline x)^T$$\n",
    "\n",
    "2. Determining the length between the mean and sampling of any collection, that is called the class variance \n",
    "$$S_w=\\sum_{i=1}^g (N_i - 1)S_i = \\sum_{i=1}^g \\sum_{j=1}^(N_i) (x_i,_j - \\overline x_i)(x_i,_j - \\overline x_i)^T$$ <br>\n",
    "\n",
    "\n",
    "3. Constructing the lower dimensional space which maximizes the between-class variance and minimizes the within-class variance. Let P be the lower dimensional space projection, which is called Fisher’s measure.<br>\n",
    "$$P_{lda}=arg_p max \\frac{\\vert{P^TS_bP}\\vert}{\\vert{P^TS_wP}\\vert}$$\n",
    "\n",
    "### 2. Clustering and Classification Algorithms\n",
    "#### a. K-NN  (K-Nearest Neighborhood)\n",
    "K nearest neighbors is a basic algorithm that stores every accessible case and arranges new cases based on a similarity measure (for example, distance functions). KNN has been used in statistical estimation and pattern recognition in the early 1970s as a non-parametric technique.\n",
    "\n",
    "Algorithm;\n",
    "\n",
    "A case is grouped by a majority vote of its neighbors, with the case being assigned to the class most common among its K nearest neighbors, calculated by a distance function. In the event that $K = 1$, at that point the case is basically assigned to the class of its nearest neighbor.\n",
    "\n",
    "It should likewise be noticed that every one of the three distance measures is only valid for continuous variables. In the occasion of categorical variables, the Hamming distance must be used. It likewise raises the issue of standardization of the numerical variables in the range of 0 and 1 when there is a blend of numerical and categorical variables in the data set.\n",
    "\n",
    "Picking the optimal value for K is best done by first reviewing the data. Generally, a big K value is more exact as it decreases the general commotion however there is no assurance. Cross-validation is another approach to reflectively decides a decent K value by using an independent data set to validate the K value. In the past, the optimal K for most data sets has been between 3-10. That produces many preferable outcomes over 1-NN.\n",
    "\n",
    "#### b. K-Means\n",
    "One of the most direct assignments we can perform on a data set without labels is to discover bunches of data in our data set which are like - what we call clusters. K-Means stands out amongst the most well known \"clustering\" algorithms. K-Means stores k centroids that it uses to characterize clusters. A point is viewed as in a specific cluster on the off chance that it is nearer to that group's centroid than some other centroid. K-Means finds the best centroids by shifting back and forth between relegating information focuses to clusters dependent on the present centroids and choosing centroids (focuses which are the focal point of a group) in light of the present task of data points to clusters.\n",
    "\n",
    "### 3. Regression Methods\n",
    "#### a. Linear Regression\n",
    "In statistics, linear regression is a linear way to display the connection between a scalar reaction (or dependent variable) and at least one informative factor (or autonomous factors). The instance of one explanatory variable is called simple linear regression. For more than one explanatory variable, the procedure is called multiple linear regression. This term is discrete from multivariate linear regression, where multiple correlated dependent variables are anticipated, instead of a single scalar variable. In linear regression, the connections are displayed utilizing linear predictor functions whose unknown model parameters are evaluated from the data. Such models are called linear models. Mostly, the conditional mean of the reaction given the estimations of the explanatory variables (or predictors) is thought to be a relative function of those values; less known for, the conditional mean or some other quantile is utilized. Like all types of regression analysis, linear regression centers around the circumstantial probability distribution of the reaction given the estimations of the predictors, as opposed to on the joint probability distribution of all of these factors, which is the area of multivariate analysis."
   ]
  },
  {
   "cell_type": "markdown",
   "metadata": {},
   "source": [
    "# III. Building Recommendation Engine\n",
    "## A. Exploring the Jester5k Dataset"
   ]
  },
  {
   "cell_type": "markdown",
   "metadata": {},
   "source": [
    "The data set contains a sample of 5000 users from the anonymous rating data from the Jester Online Joke Recommender System collected between April 1999 and May 2003/"
   ]
  },
  {
   "cell_type": "code",
   "execution_count": 379,
   "metadata": {
    "scrolled": false
   },
   "outputs": [],
   "source": [
    "# At the beginning we need to install the libraries that we will use, which is \"Recommenderlab\"\n",
    "if(!\"recommenderlab\" %in% rownames(installed.packages())){\n",
    "install.packages(\"recommenderlab\")}\n",
    "library(recommenderlab)"
   ]
  },
  {
   "cell_type": "code",
   "execution_count": 380,
   "metadata": {},
   "outputs": [
    {
     "data": {
      "text/html": [
       "<table>\n",
       "<caption>A matrix: 5 × 2 of type chr[,2]</caption>\n",
       "<thead>\n",
       "\t<tr><th scope=col>Item</th><th scope=col>Title</th></tr>\n",
       "</thead>\n",
       "<tbody>\n",
       "\t<tr><td>Jester5k                   </td><td>Jester dataset (5k sample)               </td></tr>\n",
       "\t<tr><td>JesterJokes (Jester5k)     </td><td>Jester dataset (5k sample)               </td></tr>\n",
       "\t<tr><td>MSWeb                      </td><td>Anonymous web data from www.microsoft.com</td></tr>\n",
       "\t<tr><td>MovieLense                 </td><td>MovieLense Dataset (100k)                </td></tr>\n",
       "\t<tr><td>MovieLenseMeta (MovieLense)</td><td>MovieLense Dataset (100k)                </td></tr>\n",
       "</tbody>\n",
       "</table>\n"
      ],
      "text/latex": [
       "A matrix: 5 × 2 of type chr{[},2{]}\n",
       "\\begin{tabular}{ll}\n",
       " Item & Title\\\\\n",
       "\\hline\n",
       "\t Jester5k                    & Jester dataset (5k sample)               \\\\\n",
       "\t JesterJokes (Jester5k)      & Jester dataset (5k sample)               \\\\\n",
       "\t MSWeb                       & Anonymous web data from www.microsoft.com\\\\\n",
       "\t MovieLense                  & MovieLense Dataset (100k)                \\\\\n",
       "\t MovieLenseMeta (MovieLense) & MovieLense Dataset (100k)                \\\\\n",
       "\\end{tabular}\n"
      ],
      "text/markdown": [
       "\n",
       "A matrix: 5 × 2 of type chr[,2]\n",
       "\n",
       "| Item | Title |\n",
       "|---|---|\n",
       "| Jester5k                    | Jester dataset (5k sample)                |\n",
       "| JesterJokes (Jester5k)      | Jester dataset (5k sample)                |\n",
       "| MSWeb                       | Anonymous web data from www.microsoft.com |\n",
       "| MovieLense                  | MovieLense Dataset (100k)                 |\n",
       "| MovieLenseMeta (MovieLense) | MovieLense Dataset (100k)                 |\n",
       "\n"
      ],
      "text/plain": [
       "     Item                        Title                                    \n",
       "[1,] Jester5k                    Jester dataset (5k sample)               \n",
       "[2,] JesterJokes (Jester5k)      Jester dataset (5k sample)               \n",
       "[3,] MSWeb                       Anonymous web data from www.microsoft.com\n",
       "[4,] MovieLense                  MovieLense Dataset (100k)                \n",
       "[5,] MovieLenseMeta (MovieLense) MovieLense Dataset (100k)                "
      ]
     },
     "metadata": {},
     "output_type": "display_data"
    }
   ],
   "source": [
    "# From this library we are going to take a dataset that we need. We will use Jester5k dataset.\n",
    "data_package <- data(package = \"recommenderlab\")\n",
    "data_package$results[,c(\"Item\",\"Title\")]\n",
    "data(Jester5k)"
   ]
  },
  {
   "cell_type": "markdown",
   "metadata": {},
   "source": [
    "### 1. Details About Dataset\n",
    "Jester5k contains a 5000 x 100 rating matrix (5000 users and 100 jokes) with ratings between -10.00 and +10.00. All selected users have rated 36 or more jokes. The data also contains the actual jokes in JesterJokes<sup>9</sup>\n",
    "\n",
    "The number of ratings present in the real-rating matrix is represented as follows:"
   ]
  },
  {
   "cell_type": "code",
   "execution_count": 278,
   "metadata": {},
   "outputs": [
    {
     "data": {
      "text/html": [
       "362106"
      ],
      "text/latex": [
       "362106"
      ],
      "text/markdown": [
       "362106"
      ],
      "text/plain": [
       "[1] 362106"
      ]
     },
     "metadata": {},
     "output_type": "display_data"
    },
    {
     "data": {
      "text/html": [
       "'realRatingMatrix'"
      ],
      "text/latex": [
       "'realRatingMatrix'"
      ],
      "text/markdown": [
       "'realRatingMatrix'"
      ],
      "text/plain": [
       "[1] \"realRatingMatrix\"\n",
       "attr(,\"package\")\n",
       "[1] \"recommenderlab\""
      ]
     },
     "metadata": {},
     "output_type": "display_data"
    }
   ],
   "source": [
    "nratings(Jester5k)\n",
    "class(Jester5k)"
   ]
  },
  {
   "cell_type": "code",
   "execution_count": 279,
   "metadata": {},
   "outputs": [
    {
     "data": {
      "text/plain": [
       "4674488 bytes"
      ]
     },
     "metadata": {},
     "output_type": "display_data"
    }
   ],
   "source": [
    "object.size(Jester5k)"
   ]
  },
  {
   "cell_type": "code",
   "execution_count": 280,
   "metadata": {},
   "outputs": [
    {
     "data": {
      "text/plain": [
       "4326888 bytes"
      ]
     },
     "metadata": {},
     "output_type": "display_data"
    }
   ],
   "source": [
    "# If we convert the real-rating matrix into R matrix\n",
    "object.size(as(Jester5k,\"matrix\"))\n",
    "# the size will be"
   ]
  },
  {
   "cell_type": "code",
   "execution_count": 281,
   "metadata": {},
   "outputs": [
    {
     "data": {
      "text/plain": [
       "0.9 bytes"
      ]
     },
     "metadata": {},
     "output_type": "display_data"
    }
   ],
   "source": [
    "object.size(as(Jester5k, \"matrix\"))/object.size(Jester5k)"
   ]
  },
  {
   "cell_type": "markdown",
   "metadata": {},
   "source": [
    "We see that the real-rating matrix stores 7,5% less space than the R grid. For collaborative filtering methods, which are memory-based models, where every one of the information is stacked into the memory while producing suggestions, putting away information productively is significant. The recommenderlab bundle carries out this responsibility proficiently."
   ]
  },
  {
   "cell_type": "markdown",
   "metadata": {},
   "source": [
    "The accompanying code work applies the capacity to every one of the components of the rundown, for our situation, for every one of the things in the recommender_models object, lapply will extricate the portrayal and show the outcomes as pursues:"
   ]
  },
  {
   "cell_type": "code",
   "execution_count": 282,
   "metadata": {},
   "outputs": [
    {
     "data": {
      "text/plain": [
       " [1] [                      [<-                    binarize              \n",
       " [4] calcPredictionAccuracy coerce                 colCounts             \n",
       " [7] colMeans               colSds                 colSums               \n",
       "[10] denormalize            dim                    dimnames              \n",
       "[13] dimnames<-             dissimilarity          evaluationScheme      \n",
       "[16] getData.frame          getList                getNormalize          \n",
       "[19] getRatingMatrix        getRatings             getTopNLists          \n",
       "[22] image                  normalize              nratings              \n",
       "[25] Recommender            removeKnownRatings     rowCounts             \n",
       "[28] rowMeans               rowSds                 rowSums               \n",
       "[31] sample                 show                   similarity            \n",
       "see '?methods' for accessing help and source code"
      ]
     },
     "metadata": {},
     "output_type": "display_data"
    }
   ],
   "source": [
    "methods(class = class(Jester5k))"
   ]
  },
  {
   "cell_type": "markdown",
   "metadata": {},
   "source": [
    "The following code will show us the available recommendation algorithms that we can use in the \"recommenderlab\" package"
   ]
  },
  {
   "cell_type": "code",
   "execution_count": 283,
   "metadata": {},
   "outputs": [
    {
     "data": {
      "text/html": [
       "<ol class=list-inline>\n",
       "\t<li>'ALS_realRatingMatrix'</li>\n",
       "\t<li>'ALS_implicit_realRatingMatrix'</li>\n",
       "\t<li>'IBCF_realRatingMatrix'</li>\n",
       "\t<li>'POPULAR_realRatingMatrix'</li>\n",
       "\t<li>'RANDOM_realRatingMatrix'</li>\n",
       "\t<li>'RERECOMMEND_realRatingMatrix'</li>\n",
       "\t<li>'SVD_realRatingMatrix'</li>\n",
       "\t<li>'SVDF_realRatingMatrix'</li>\n",
       "\t<li>'UBCF_realRatingMatrix'</li>\n",
       "</ol>\n"
      ],
      "text/latex": [
       "\\begin{enumerate*}\n",
       "\\item 'ALS\\_realRatingMatrix'\n",
       "\\item 'ALS\\_implicit\\_realRatingMatrix'\n",
       "\\item 'IBCF\\_realRatingMatrix'\n",
       "\\item 'POPULAR\\_realRatingMatrix'\n",
       "\\item 'RANDOM\\_realRatingMatrix'\n",
       "\\item 'RERECOMMEND\\_realRatingMatrix'\n",
       "\\item 'SVD\\_realRatingMatrix'\n",
       "\\item 'SVDF\\_realRatingMatrix'\n",
       "\\item 'UBCF\\_realRatingMatrix'\n",
       "\\end{enumerate*}\n"
      ],
      "text/markdown": [
       "1. 'ALS_realRatingMatrix'\n",
       "2. 'ALS_implicit_realRatingMatrix'\n",
       "3. 'IBCF_realRatingMatrix'\n",
       "4. 'POPULAR_realRatingMatrix'\n",
       "5. 'RANDOM_realRatingMatrix'\n",
       "6. 'RERECOMMEND_realRatingMatrix'\n",
       "7. 'SVD_realRatingMatrix'\n",
       "8. 'SVDF_realRatingMatrix'\n",
       "9. 'UBCF_realRatingMatrix'\n",
       "\n",
       "\n"
      ],
      "text/plain": [
       "[1] \"ALS_realRatingMatrix\"          \"ALS_implicit_realRatingMatrix\"\n",
       "[3] \"IBCF_realRatingMatrix\"         \"POPULAR_realRatingMatrix\"     \n",
       "[5] \"RANDOM_realRatingMatrix\"       \"RERECOMMEND_realRatingMatrix\" \n",
       "[7] \"SVD_realRatingMatrix\"          \"SVDF_realRatingMatrix\"        \n",
       "[9] \"UBCF_realRatingMatrix\"        "
      ]
     },
     "metadata": {},
     "output_type": "display_data"
    }
   ],
   "source": [
    "names(recommender_models)"
   ]
  },
  {
   "cell_type": "markdown",
   "metadata": {},
   "source": [
    "The next code block shows a similar outcome as in the past outcome, lapply() function applies the capacity to every one of the components of the rundown, for our situation, for every one of the things in the recommender_models object, lapply will separate the depiction and show the outcomes."
   ]
  },
  {
   "cell_type": "code",
   "execution_count": 284,
   "metadata": {},
   "outputs": [
    {
     "data": {
      "text/html": [
       "<dl>\n",
       "\t<dt>$ALS_realRatingMatrix</dt>\n",
       "\t\t<dd>'Recommender for explicit ratings based on latent factors, calculated by alternating least squares algorithm.'</dd>\n",
       "\t<dt>$ALS_implicit_realRatingMatrix</dt>\n",
       "\t\t<dd>'Recommender for implicit data based on latent factors, calculated by alternating least squares algorithm.'</dd>\n",
       "\t<dt>$IBCF_realRatingMatrix</dt>\n",
       "\t\t<dd>'Recommender based on item-based collaborative filtering.'</dd>\n",
       "\t<dt>$POPULAR_realRatingMatrix</dt>\n",
       "\t\t<dd>'Recommender based on item popularity.'</dd>\n",
       "\t<dt>$RANDOM_realRatingMatrix</dt>\n",
       "\t\t<dd>'Produce random recommendations (real ratings).'</dd>\n",
       "\t<dt>$RERECOMMEND_realRatingMatrix</dt>\n",
       "\t\t<dd>'Re-recommends highly rated items (real ratings).'</dd>\n",
       "\t<dt>$SVD_realRatingMatrix</dt>\n",
       "\t\t<dd>'Recommender based on SVD approximation with column-mean imputation.'</dd>\n",
       "\t<dt>$SVDF_realRatingMatrix</dt>\n",
       "\t\t<dd>'Recommender based on Funk SVD with gradient descend.'</dd>\n",
       "\t<dt>$UBCF_realRatingMatrix</dt>\n",
       "\t\t<dd>'Recommender based on user-based collaborative filtering.'</dd>\n",
       "</dl>\n"
      ],
      "text/latex": [
       "\\begin{description}\n",
       "\\item[\\$ALS\\_realRatingMatrix] 'Recommender for explicit ratings based on latent factors, calculated by alternating least squares algorithm.'\n",
       "\\item[\\$ALS\\_implicit\\_realRatingMatrix] 'Recommender for implicit data based on latent factors, calculated by alternating least squares algorithm.'\n",
       "\\item[\\$IBCF\\_realRatingMatrix] 'Recommender based on item-based collaborative filtering.'\n",
       "\\item[\\$POPULAR\\_realRatingMatrix] 'Recommender based on item popularity.'\n",
       "\\item[\\$RANDOM\\_realRatingMatrix] 'Produce random recommendations (real ratings).'\n",
       "\\item[\\$RERECOMMEND\\_realRatingMatrix] 'Re-recommends highly rated items (real ratings).'\n",
       "\\item[\\$SVD\\_realRatingMatrix] 'Recommender based on SVD approximation with column-mean imputation.'\n",
       "\\item[\\$SVDF\\_realRatingMatrix] 'Recommender based on Funk SVD with gradient descend.'\n",
       "\\item[\\$UBCF\\_realRatingMatrix] 'Recommender based on user-based collaborative filtering.'\n",
       "\\end{description}\n"
      ],
      "text/markdown": [
       "$ALS_realRatingMatrix\n",
       ":   'Recommender for explicit ratings based on latent factors, calculated by alternating least squares algorithm.'\n",
       "$ALS_implicit_realRatingMatrix\n",
       ":   'Recommender for implicit data based on latent factors, calculated by alternating least squares algorithm.'\n",
       "$IBCF_realRatingMatrix\n",
       ":   'Recommender based on item-based collaborative filtering.'\n",
       "$POPULAR_realRatingMatrix\n",
       ":   'Recommender based on item popularity.'\n",
       "$RANDOM_realRatingMatrix\n",
       ":   'Produce random recommendations (real ratings).'\n",
       "$RERECOMMEND_realRatingMatrix\n",
       ":   'Re-recommends highly rated items (real ratings).'\n",
       "$SVD_realRatingMatrix\n",
       ":   'Recommender based on SVD approximation with column-mean imputation.'\n",
       "$SVDF_realRatingMatrix\n",
       ":   'Recommender based on Funk SVD with gradient descend.'\n",
       "$UBCF_realRatingMatrix\n",
       ":   'Recommender based on user-based collaborative filtering.'\n",
       "\n",
       "\n"
      ],
      "text/plain": [
       "$ALS_realRatingMatrix\n",
       "[1] \"Recommender for explicit ratings based on latent factors, calculated by alternating least squares algorithm.\"\n",
       "\n",
       "$ALS_implicit_realRatingMatrix\n",
       "[1] \"Recommender for implicit data based on latent factors, calculated by alternating least squares algorithm.\"\n",
       "\n",
       "$IBCF_realRatingMatrix\n",
       "[1] \"Recommender based on item-based collaborative filtering.\"\n",
       "\n",
       "$POPULAR_realRatingMatrix\n",
       "[1] \"Recommender based on item popularity.\"\n",
       "\n",
       "$RANDOM_realRatingMatrix\n",
       "[1] \"Produce random recommendations (real ratings).\"\n",
       "\n",
       "$RERECOMMEND_realRatingMatrix\n",
       "[1] \"Re-recommends highly rated items (real ratings).\"\n",
       "\n",
       "$SVD_realRatingMatrix\n",
       "[1] \"Recommender based on SVD approximation with column-mean imputation.\"\n",
       "\n",
       "$SVDF_realRatingMatrix\n",
       "[1] \"Recommender based on Funk SVD with gradient descend.\"\n",
       "\n",
       "$UBCF_realRatingMatrix\n",
       "[1] \"Recommender based on user-based collaborative filtering.\"\n"
      ]
     },
     "metadata": {},
     "output_type": "display_data"
    }
   ],
   "source": [
    "lapply(recommender_models, \"[[\", \"description\")"
   ]
  },
  {
   "cell_type": "markdown",
   "metadata": {},
   "source": [
    "### 2. Exploring the Dataset"
   ]
  },
  {
   "cell_type": "code",
   "execution_count": 285,
   "metadata": {},
   "outputs": [
    {
     "data": {
      "text/html": [
       "<ol class=list-inline>\n",
       "\t<li>5000</li>\n",
       "\t<li>100</li>\n",
       "</ol>\n"
      ],
      "text/latex": [
       "\\begin{enumerate*}\n",
       "\\item 5000\n",
       "\\item 100\n",
       "\\end{enumerate*}\n"
      ],
      "text/markdown": [
       "1. 5000\n",
       "2. 100\n",
       "\n",
       "\n"
      ],
      "text/plain": [
       "[1] 5000  100"
      ]
     },
     "metadata": {},
     "output_type": "display_data"
    }
   ],
   "source": [
    "# We can start exploring the data with finding its dimensions\n",
    "dim(Jester5k)"
   ]
  },
  {
   "cell_type": "code",
   "execution_count": 286,
   "metadata": {},
   "outputs": [
    {
     "data": {
      "text/html": [
       "'dgCMatrix'"
      ],
      "text/latex": [
       "'dgCMatrix'"
      ],
      "text/markdown": [
       "'dgCMatrix'"
      ],
      "text/plain": [
       "[1] \"dgCMatrix\"\n",
       "attr(,\"package\")\n",
       "[1] \"Matrix\""
      ]
     },
     "metadata": {},
     "output_type": "display_data"
    }
   ],
   "source": [
    "class(Jester5k@data)"
   ]
  },
  {
   "cell_type": "markdown",
   "metadata": {},
   "source": [
    "The next code line will enable us to comprehend the rating esteems distribution:"
   ]
  },
  {
   "cell_type": "code",
   "execution_count": 287,
   "metadata": {},
   "outputs": [
    {
     "data": {
      "image/png": "[encoded data removed]",
      "text/plain": [
       "Plot with title \"Distribution of Ratings\""
      ]
     },
     "metadata": {},
     "output_type": "display_data"
    }
   ],
   "source": [
    "hist(getRatings(Jester5k), main=\"Distribution of Ratings\")"
   ]
  },
  {
   "cell_type": "markdown",
   "metadata": {},
   "source": [
    "The former picture demonstrates the recurrence of the evaluations accessible from the Jester5K dataset. We can see that the negative evaluations are pretty much of uniform dissemination or the equivalent recurrence, and the positive evaluations are of a higher recurrence and are declining towards the right of the plot. This may credit to the inclination instigated by the appraisals given by the clients."
   ]
  },
  {
   "cell_type": "markdown",
   "metadata": {},
   "source": [
    "## B. Building User-based Collaborative Filtering With Recommenderlab"
   ]
  },
  {
   "cell_type": "code",
   "execution_count": 288,
   "metadata": {},
   "outputs": [
    {
     "data": {
      "text/html": [
       "<table>\n",
       "<caption>A matrix: 6 × 10 of type dbl[,10]</caption>\n",
       "<thead>\n",
       "\t<tr><th></th><th scope=col>j1</th><th scope=col>j2</th><th scope=col>j3</th><th scope=col>j4</th><th scope=col>j5</th><th scope=col>j6</th><th scope=col>j7</th><th scope=col>j8</th><th scope=col>j9</th><th scope=col>j10</th></tr>\n",
       "</thead>\n",
       "<tbody>\n",
       "\t<tr><th scope=row>u2841</th><td> 7.91</td><td> 9.17</td><td> 5.34</td><td> 8.16</td><td>-8.74</td><td> 7.14</td><td> 8.88</td><td>-8.25</td><td> 5.87</td><td> 6.21</td></tr>\n",
       "\t<tr><th scope=row>u15547</th><td>-3.20</td><td>-3.50</td><td>-9.56</td><td>-8.74</td><td>-6.36</td><td>-3.30</td><td> 0.78</td><td> 2.18</td><td>-8.40</td><td>-8.79</td></tr>\n",
       "\t<tr><th scope=row>u15221</th><td>-1.70</td><td> 1.21</td><td> 1.55</td><td> 2.77</td><td> 5.58</td><td> 3.06</td><td> 2.72</td><td>-4.66</td><td> 4.51</td><td>-3.06</td></tr>\n",
       "\t<tr><th scope=row>u15573</th><td>-7.38</td><td>-8.93</td><td>-3.88</td><td>-7.23</td><td>-4.90</td><td> 4.13</td><td> 2.57</td><td> 3.83</td><td> 4.37</td><td> 3.16</td></tr>\n",
       "\t<tr><th scope=row>u21505</th><td> 0.10</td><td> 4.17</td><td> 4.90</td><td> 1.55</td><td> 5.53</td><td> 1.50</td><td>-3.79</td><td> 1.94</td><td> 3.59</td><td> 4.81</td></tr>\n",
       "\t<tr><th scope=row>u15994</th><td> 0.83</td><td>-4.90</td><td> 0.68</td><td>-7.18</td><td> 0.34</td><td>-4.32</td><td>-6.17</td><td> 6.12</td><td>-5.58</td><td> 5.44</td></tr>\n",
       "</tbody>\n",
       "</table>\n"
      ],
      "text/latex": [
       "A matrix: 6 × 10 of type dbl{[},10{]}\n",
       "\\begin{tabular}{r|llllllllll}\n",
       "  & j1 & j2 & j3 & j4 & j5 & j6 & j7 & j8 & j9 & j10\\\\\n",
       "\\hline\n",
       "\tu2841 &  7.91 &  9.17 &  5.34 &  8.16 & -8.74 &  7.14 &  8.88 & -8.25 &  5.87 &  6.21\\\\\n",
       "\tu15547 & -3.20 & -3.50 & -9.56 & -8.74 & -6.36 & -3.30 &  0.78 &  2.18 & -8.40 & -8.79\\\\\n",
       "\tu15221 & -1.70 &  1.21 &  1.55 &  2.77 &  5.58 &  3.06 &  2.72 & -4.66 &  4.51 & -3.06\\\\\n",
       "\tu15573 & -7.38 & -8.93 & -3.88 & -7.23 & -4.90 &  4.13 &  2.57 &  3.83 &  4.37 &  3.16\\\\\n",
       "\tu21505 &  0.10 &  4.17 &  4.90 &  1.55 &  5.53 &  1.50 & -3.79 &  1.94 &  3.59 &  4.81\\\\\n",
       "\tu15994 &  0.83 & -4.90 &  0.68 & -7.18 &  0.34 & -4.32 & -6.17 &  6.12 & -5.58 &  5.44\\\\\n",
       "\\end{tabular}\n"
      ],
      "text/markdown": [
       "\n",
       "A matrix: 6 × 10 of type dbl[,10]\n",
       "\n",
       "| <!--/--> | j1 | j2 | j3 | j4 | j5 | j6 | j7 | j8 | j9 | j10 |\n",
       "|---|---|---|---|---|---|---|---|---|---|---|\n",
       "| u2841 |  7.91 |  9.17 |  5.34 |  8.16 | -8.74 |  7.14 |  8.88 | -8.25 |  5.87 |  6.21 |\n",
       "| u15547 | -3.20 | -3.50 | -9.56 | -8.74 | -6.36 | -3.30 |  0.78 |  2.18 | -8.40 | -8.79 |\n",
       "| u15221 | -1.70 |  1.21 |  1.55 |  2.77 |  5.58 |  3.06 |  2.72 | -4.66 |  4.51 | -3.06 |\n",
       "| u15573 | -7.38 | -8.93 | -3.88 | -7.23 | -4.90 |  4.13 |  2.57 |  3.83 |  4.37 |  3.16 |\n",
       "| u21505 |  0.10 |  4.17 |  4.90 |  1.55 |  5.53 |  1.50 | -3.79 |  1.94 |  3.59 |  4.81 |\n",
       "| u15994 |  0.83 | -4.90 |  0.68 | -7.18 |  0.34 | -4.32 | -6.17 |  6.12 | -5.58 |  5.44 |\n",
       "\n"
      ],
      "text/plain": [
       "       j1    j2    j3    j4    j5    j6    j7    j8    j9    j10  \n",
       "u2841   7.91  9.17  5.34  8.16 -8.74  7.14  8.88 -8.25  5.87  6.21\n",
       "u15547 -3.20 -3.50 -9.56 -8.74 -6.36 -3.30  0.78  2.18 -8.40 -8.79\n",
       "u15221 -1.70  1.21  1.55  2.77  5.58  3.06  2.72 -4.66  4.51 -3.06\n",
       "u15573 -7.38 -8.93 -3.88 -7.23 -4.90  4.13  2.57  3.83  4.37  3.16\n",
       "u21505  0.10  4.17  4.90  1.55  5.53  1.50 -3.79  1.94  3.59  4.81\n",
       "u15994  0.83 -4.90  0.68 -7.18  0.34 -4.32 -6.17  6.12 -5.58  5.44"
      ]
     },
     "metadata": {},
     "output_type": "display_data"
    }
   ],
   "source": [
    "### At this point we will start to apply user-based Collaborative Filtering Recommenderlab \n",
    "library(recommenderlab)\n",
    "data(Jester5k)\n",
    "head(as(Jester5k,\"matrix\")[,1:10])"
   ]
  },
  {
   "cell_type": "markdown",
   "metadata": {},
   "source": [
    "### 1. Preparing Training and Test Data"
   ]
  },
  {
   "cell_type": "code",
   "execution_count": 289,
   "metadata": {},
   "outputs": [
    {
     "data": {
      "text/html": [
       "<ol class=list-inline>\n",
       "\t<li>TRUE</li>\n",
       "\t<li>TRUE</li>\n",
       "\t<li>TRUE</li>\n",
       "\t<li>FALSE</li>\n",
       "\t<li>TRUE</li>\n",
       "\t<li>FALSE</li>\n",
       "</ol>\n"
      ],
      "text/latex": [
       "\\begin{enumerate*}\n",
       "\\item TRUE\n",
       "\\item TRUE\n",
       "\\item TRUE\n",
       "\\item FALSE\n",
       "\\item TRUE\n",
       "\\item FALSE\n",
       "\\end{enumerate*}\n"
      ],
      "text/markdown": [
       "1. TRUE\n",
       "2. TRUE\n",
       "3. TRUE\n",
       "4. FALSE\n",
       "5. TRUE\n",
       "6. FALSE\n",
       "\n",
       "\n"
      ],
      "text/plain": [
       "[1]  TRUE  TRUE  TRUE FALSE  TRUE FALSE"
      ]
     },
     "metadata": {},
     "output_type": "display_data"
    }
   ],
   "source": [
    "### We need to arrange training and test data \n",
    "set.seed(1)\n",
    "# We will split the data 80% for train set and 20% for test set\n",
    "train_set <- sample(x = c(TRUE, FALSE), size = nrow(Jester5k),replace = TRUE, prob = c(0.8, 0.2)) \n",
    "# This line above will give us the training set which has logical values\n",
    "head(train_set)"
   ]
  },
  {
   "cell_type": "code",
   "execution_count": 290,
   "metadata": {},
   "outputs": [],
   "source": [
    "# Nest step will be dividing the set such as train set and test set\n",
    "rec_data_train <- Jester5k[train_set, ] # Train set\n",
    "rec_data_test <- Jester5k[!train_set, ] # Test set"
   ]
  },
  {
   "cell_type": "code",
   "execution_count": 291,
   "metadata": {},
   "outputs": [
    {
     "data": {
      "text/html": [
       "<ol class=list-inline>\n",
       "\t<li>3951</li>\n",
       "\t<li>100</li>\n",
       "</ol>\n"
      ],
      "text/latex": [
       "\\begin{enumerate*}\n",
       "\\item 3951\n",
       "\\item 100\n",
       "\\end{enumerate*}\n"
      ],
      "text/markdown": [
       "1. 3951\n",
       "2. 100\n",
       "\n",
       "\n"
      ],
      "text/plain": [
       "[1] 3951  100"
      ]
     },
     "metadata": {},
     "output_type": "display_data"
    }
   ],
   "source": [
    "# Dimension of the train set\n",
    "dim(rec_data_train)"
   ]
  },
  {
   "cell_type": "code",
   "execution_count": 292,
   "metadata": {},
   "outputs": [
    {
     "data": {
      "text/html": [
       "<ol class=list-inline>\n",
       "\t<li>1049</li>\n",
       "\t<li>100</li>\n",
       "</ol>\n"
      ],
      "text/latex": [
       "\\begin{enumerate*}\n",
       "\\item 1049\n",
       "\\item 100\n",
       "\\end{enumerate*}\n"
      ],
      "text/markdown": [
       "1. 1049\n",
       "2. 100\n",
       "\n",
       "\n"
      ],
      "text/plain": [
       "[1] 1049  100"
      ]
     },
     "metadata": {},
     "output_type": "display_data"
    }
   ],
   "source": [
    "# Dimension of the test set\n",
    "dim(rec_data_test)"
   ]
  },
  {
   "cell_type": "markdown",
   "metadata": {},
   "source": [
    "### 2 Creating a User-based Collaborative Model"
   ]
  },
  {
   "cell_type": "code",
   "execution_count": 293,
   "metadata": {},
   "outputs": [
    {
     "data": {
      "text/plain": [
       "$ALS_realRatingMatrix\n",
       "Recommender method: ALS for realRatingMatrix\n",
       "Description: Recommender for explicit ratings based on latent factors, calculated by alternating least squares algorithm.\n",
       "Reference: Yunhong Zhou, Dennis Wilkinson, Robert Schreiber, Rong Pan (2008). Large-Scale Parallel Collaborative Filtering for the Netflix Prize, 4th Int'l Conf. Algorithmic Aspects in Information and Management, LNCS 5034.\n",
       "Parameters:\n",
       "  normalize lambda n_factors n_iterations min_item_nr seed\n",
       "1      NULL    0.1        10           10           1 NULL\n",
       "\n",
       "$ALS_implicit_realRatingMatrix\n",
       "Recommender method: ALS_implicit for realRatingMatrix\n",
       "Description: Recommender for implicit data based on latent factors, calculated by alternating least squares algorithm.\n",
       "Reference: Yifan Hu, Yehuda Koren, Chris Volinsky (2008). Collaborative Filtering for Implicit Feedback Datasets, ICDM '08 Proceedings of the 2008 Eighth IEEE International Conference on Data Mining, pages 263-272.\n",
       "Parameters:\n",
       "  lambda alpha n_factors n_iterations min_item_nr seed\n",
       "1    0.1    10        10           10           1 NULL\n",
       "\n",
       "$IBCF_realRatingMatrix\n",
       "Recommender method: IBCF for realRatingMatrix\n",
       "Description: Recommender based on item-based collaborative filtering.\n",
       "Reference: NA\n",
       "Parameters:\n",
       "   k   method normalize normalize_sim_matrix alpha na_as_zero\n",
       "1 30 \"Cosine\"  \"center\"                FALSE   0.5      FALSE\n",
       "\n",
       "$POPULAR_realRatingMatrix\n",
       "Recommender method: POPULAR for realRatingMatrix\n",
       "Description: Recommender based on item popularity.\n",
       "Reference: NA\n",
       "Parameters:\n",
       "  normalize\n",
       "1  \"center\"\n",
       "                                                     aggregationRatings\n",
       "1 new(\"standardGeneric\", .Data = function (x, na.rm = FALSE, dims = 1, \n",
       "                                                  aggregationPopularity\n",
       "1 new(\"standardGeneric\", .Data = function (x, na.rm = FALSE, dims = 1, \n",
       "\n",
       "$RANDOM_realRatingMatrix\n",
       "Recommender method: RANDOM for realRatingMatrix\n",
       "Description: Produce random recommendations (real ratings).\n",
       "Reference: NA\n",
       "Parameters: None\n",
       "\n",
       "$RERECOMMEND_realRatingMatrix\n",
       "Recommender method: RERECOMMEND for realRatingMatrix\n",
       "Description: Re-recommends highly rated items (real ratings).\n",
       "Reference: NA\n",
       "Parameters:\n",
       "  randomize minRating\n",
       "1         1        NA\n",
       "\n",
       "$SVD_realRatingMatrix\n",
       "Recommender method: SVD for realRatingMatrix\n",
       "Description: Recommender based on SVD approximation with column-mean imputation.\n",
       "Reference: NA\n",
       "Parameters:\n",
       "   k maxiter normalize\n",
       "1 10     100  \"center\"\n",
       "\n",
       "$SVDF_realRatingMatrix\n",
       "Recommender method: SVDF for realRatingMatrix\n",
       "Description: Recommender based on Funk SVD with gradient descend.\n",
       "Reference: NA\n",
       "Parameters:\n",
       "   k gamma lambda min_epochs max_epochs min_improvement normalize verbose\n",
       "1 10 0.015  0.001         50        200           1e-06  \"center\"   FALSE\n",
       "\n",
       "$UBCF_realRatingMatrix\n",
       "Recommender method: UBCF for realRatingMatrix\n",
       "Description: Recommender based on user-based collaborative filtering.\n",
       "Reference: NA\n",
       "Parameters:\n",
       "    method nn sample normalize\n",
       "1 \"cosine\" 25  FALSE  \"center\"\n"
      ]
     },
     "metadata": {},
     "output_type": "display_data"
    }
   ],
   "source": [
    "### Since we made the train and test sets now we can start building a user-based collaborative model\n",
    "recommender_models <- recommenderRegistry$get_entries(dataType = \"realRatingMatrix\")\n",
    "recommender_models"
   ]
  },
  {
   "cell_type": "markdown",
   "metadata": {},
   "source": [
    "This output shows the six distinct recommender models and their parameters."
   ]
  },
  {
   "cell_type": "code",
   "execution_count": 294,
   "metadata": {},
   "outputs": [
    {
     "data": {
      "text/plain": [
       "Recommender of type 'UBCF' for 'realRatingMatrix' \n",
       "learned using 3951 users."
      ]
     },
     "metadata": {},
     "output_type": "display_data"
    }
   ],
   "source": [
    "### Since we are building  a user-basedd collaborative filtering model, we need to call that method first\n",
    "recc_model <- Recommender(data = rec_data_train, method = \"UBCF\")\n",
    "recc_model"
   ]
  },
  {
   "cell_type": "code",
   "execution_count": 295,
   "metadata": {},
   "outputs": [
    {
     "data": {
      "text/plain": [
       "3951 x 100 rating matrix of class 'realRatingMatrix' with 286396 ratings.\n",
       "Normalized using center on rows."
      ]
     },
     "metadata": {},
     "output_type": "display_data"
    }
   ],
   "source": [
    "recc_model@model$data"
   ]
  },
  {
   "cell_type": "markdown",
   "metadata": {},
   "source": [
    "### 3. Predictions on the Test Set"
   ]
  },
  {
   "cell_type": "code",
   "execution_count": 296,
   "metadata": {},
   "outputs": [
    {
     "data": {
      "text/plain": [
       "Recommendations as 'topNList' with n = 15 for 1049 users. "
      ]
     },
     "metadata": {},
     "output_type": "display_data"
    }
   ],
   "source": [
    "### We create the model, now we are going to predict the recommendations for the test set. For prediction we will use the\n",
    "### predict() function which is stored in the library. We are going to develope 15 recommendations for each user.\n",
    "n_recommend <- 15\n",
    "recc_predicted <- predict(object = recc_model, newdata = rec_data_test, n = n_recommend)\n",
    "recc_predicted"
   ]
  },
  {
   "cell_type": "code",
   "execution_count": 297,
   "metadata": {},
   "outputs": [],
   "source": [
    "### Let's assign the list of predicted recommendations\n",
    "rec_list <- sapply(recc_predicted@items, function(x){\n",
    "    colnames(Jester5k)[x]}\n",
    "                  )"
   ]
  },
  {
   "cell_type": "code",
   "execution_count": 298,
   "metadata": {},
   "outputs": [
    {
     "data": {
      "text/html": [
       "'list'"
      ],
      "text/latex": [
       "'list'"
      ],
      "text/markdown": [
       "'list'"
      ],
      "text/plain": [
       "[1] \"list\""
      ]
     },
     "metadata": {},
     "output_type": "display_data"
    }
   ],
   "source": [
    "class(rec_list)"
   ]
  },
  {
   "cell_type": "code",
   "execution_count": 299,
   "metadata": {},
   "outputs": [
    {
     "data": {
      "text/html": [
       "<dl>\n",
       "\t<dt>$u7904</dt>\n",
       "\t\t<dd><ol class=list-inline>\n",
       "\t<li>'j28'</li>\n",
       "\t<li>'j38'</li>\n",
       "\t<li>'j14'</li>\n",
       "\t<li>'j26'</li>\n",
       "\t<li>'j22'</li>\n",
       "\t<li>'j3'</li>\n",
       "\t<li>'j34'</li>\n",
       "\t<li>'j10'</li>\n",
       "\t<li>'j100'</li>\n",
       "\t<li>'j89'</li>\n",
       "\t<li>'j80'</li>\n",
       "\t<li>'j52'</li>\n",
       "\t<li>'j70'</li>\n",
       "\t<li>'j77'</li>\n",
       "\t<li>'j51'</li>\n",
       "</ol>\n",
       "</dd>\n",
       "\t<dt>$u20747</dt>\n",
       "\t\t<dd><ol class=list-inline>\n",
       "\t<li>'j83'</li>\n",
       "\t<li>'j89'</li>\n",
       "\t<li>'j93'</li>\n",
       "\t<li>'j91'</li>\n",
       "\t<li>'j92'</li>\n",
       "\t<li>'j72'</li>\n",
       "\t<li>'j84'</li>\n",
       "\t<li>'j97'</li>\n",
       "\t<li>'j100'</li>\n",
       "\t<li>'j98'</li>\n",
       "\t<li>'j78'</li>\n",
       "\t<li>'j87'</li>\n",
       "\t<li>'j81'</li>\n",
       "\t<li>'j82'</li>\n",
       "\t<li>'j86'</li>\n",
       "</ol>\n",
       "</dd>\n",
       "\t<dt>$u4519</dt>\n",
       "\t\t<dd><ol class=list-inline>\n",
       "\t<li>'j89'</li>\n",
       "\t<li>'j88'</li>\n",
       "\t<li>'j87'</li>\n",
       "\t<li>'j72'</li>\n",
       "\t<li>'j91'</li>\n",
       "\t<li>'j92'</li>\n",
       "\t<li>'j84'</li>\n",
       "\t<li>'j80'</li>\n",
       "\t<li>'j83'</li>\n",
       "\t<li>'j81'</li>\n",
       "\t<li>'j71'</li>\n",
       "\t<li>'j73'</li>\n",
       "\t<li>'j79'</li>\n",
       "\t<li>'j75'</li>\n",
       "\t<li>'j78'</li>\n",
       "</ol>\n",
       "</dd>\n",
       "\t<dt>$u13802</dt>\n",
       "\t\t<dd><ol class=list-inline>\n",
       "\t<li>'j72'</li>\n",
       "\t<li>'j93'</li>\n",
       "\t<li>'j80'</li>\n",
       "\t<li>'j75'</li>\n",
       "\t<li>'j87'</li>\n",
       "\t<li>'j89'</li>\n",
       "\t<li>'j91'</li>\n",
       "\t<li>'j81'</li>\n",
       "\t<li>'j100'</li>\n",
       "\t<li>'j76'</li>\n",
       "\t<li>'j79'</li>\n",
       "\t<li>'j77'</li>\n",
       "\t<li>'j90'</li>\n",
       "\t<li>'j97'</li>\n",
       "\t<li>'j73'</li>\n",
       "</ol>\n",
       "</dd>\n",
       "\t<dt>$u7722</dt>\n",
       "\t\t<dd><ol class=list-inline>\n",
       "\t<li>'j87'</li>\n",
       "\t<li>'j83'</li>\n",
       "\t<li>'j86'</li>\n",
       "\t<li>'j3'</li>\n",
       "\t<li>'j89'</li>\n",
       "\t<li>'j76'</li>\n",
       "\t<li>'j72'</li>\n",
       "\t<li>'j78'</li>\n",
       "\t<li>'j92'</li>\n",
       "\t<li>'j93'</li>\n",
       "\t<li>'j91'</li>\n",
       "\t<li>'j64'</li>\n",
       "\t<li>'j43'</li>\n",
       "\t<li>'j82'</li>\n",
       "\t<li>'j1'</li>\n",
       "</ol>\n",
       "</dd>\n",
       "\t<dt>$u21555</dt>\n",
       "\t\t<dd><ol class=list-inline>\n",
       "\t<li>'j81'</li>\n",
       "\t<li>'j76'</li>\n",
       "\t<li>'j72'</li>\n",
       "\t<li>'j97'</li>\n",
       "\t<li>'j83'</li>\n",
       "\t<li>'j74'</li>\n",
       "\t<li>'j87'</li>\n",
       "\t<li>'j85'</li>\n",
       "\t<li>'j90'</li>\n",
       "\t<li>'j96'</li>\n",
       "\t<li>'j89'</li>\n",
       "\t<li>'j93'</li>\n",
       "\t<li>'j84'</li>\n",
       "\t<li>'j91'</li>\n",
       "\t<li>'j82'</li>\n",
       "</ol>\n",
       "</dd>\n",
       "</dl>\n"
      ],
      "text/latex": [
       "\\begin{description}\n",
       "\\item[\\$u7904] \\begin{enumerate*}\n",
       "\\item 'j28'\n",
       "\\item 'j38'\n",
       "\\item 'j14'\n",
       "\\item 'j26'\n",
       "\\item 'j22'\n",
       "\\item 'j3'\n",
       "\\item 'j34'\n",
       "\\item 'j10'\n",
       "\\item 'j100'\n",
       "\\item 'j89'\n",
       "\\item 'j80'\n",
       "\\item 'j52'\n",
       "\\item 'j70'\n",
       "\\item 'j77'\n",
       "\\item 'j51'\n",
       "\\end{enumerate*}\n",
       "\n",
       "\\item[\\$u20747] \\begin{enumerate*}\n",
       "\\item 'j83'\n",
       "\\item 'j89'\n",
       "\\item 'j93'\n",
       "\\item 'j91'\n",
       "\\item 'j92'\n",
       "\\item 'j72'\n",
       "\\item 'j84'\n",
       "\\item 'j97'\n",
       "\\item 'j100'\n",
       "\\item 'j98'\n",
       "\\item 'j78'\n",
       "\\item 'j87'\n",
       "\\item 'j81'\n",
       "\\item 'j82'\n",
       "\\item 'j86'\n",
       "\\end{enumerate*}\n",
       "\n",
       "\\item[\\$u4519] \\begin{enumerate*}\n",
       "\\item 'j89'\n",
       "\\item 'j88'\n",
       "\\item 'j87'\n",
       "\\item 'j72'\n",
       "\\item 'j91'\n",
       "\\item 'j92'\n",
       "\\item 'j84'\n",
       "\\item 'j80'\n",
       "\\item 'j83'\n",
       "\\item 'j81'\n",
       "\\item 'j71'\n",
       "\\item 'j73'\n",
       "\\item 'j79'\n",
       "\\item 'j75'\n",
       "\\item 'j78'\n",
       "\\end{enumerate*}\n",
       "\n",
       "\\item[\\$u13802] \\begin{enumerate*}\n",
       "\\item 'j72'\n",
       "\\item 'j93'\n",
       "\\item 'j80'\n",
       "\\item 'j75'\n",
       "\\item 'j87'\n",
       "\\item 'j89'\n",
       "\\item 'j91'\n",
       "\\item 'j81'\n",
       "\\item 'j100'\n",
       "\\item 'j76'\n",
       "\\item 'j79'\n",
       "\\item 'j77'\n",
       "\\item 'j90'\n",
       "\\item 'j97'\n",
       "\\item 'j73'\n",
       "\\end{enumerate*}\n",
       "\n",
       "\\item[\\$u7722] \\begin{enumerate*}\n",
       "\\item 'j87'\n",
       "\\item 'j83'\n",
       "\\item 'j86'\n",
       "\\item 'j3'\n",
       "\\item 'j89'\n",
       "\\item 'j76'\n",
       "\\item 'j72'\n",
       "\\item 'j78'\n",
       "\\item 'j92'\n",
       "\\item 'j93'\n",
       "\\item 'j91'\n",
       "\\item 'j64'\n",
       "\\item 'j43'\n",
       "\\item 'j82'\n",
       "\\item 'j1'\n",
       "\\end{enumerate*}\n",
       "\n",
       "\\item[\\$u21555] \\begin{enumerate*}\n",
       "\\item 'j81'\n",
       "\\item 'j76'\n",
       "\\item 'j72'\n",
       "\\item 'j97'\n",
       "\\item 'j83'\n",
       "\\item 'j74'\n",
       "\\item 'j87'\n",
       "\\item 'j85'\n",
       "\\item 'j90'\n",
       "\\item 'j96'\n",
       "\\item 'j89'\n",
       "\\item 'j93'\n",
       "\\item 'j84'\n",
       "\\item 'j91'\n",
       "\\item 'j82'\n",
       "\\end{enumerate*}\n",
       "\n",
       "\\end{description}\n"
      ],
      "text/markdown": [
       "$u7904\n",
       ":   1. 'j28'\n",
       "2. 'j38'\n",
       "3. 'j14'\n",
       "4. 'j26'\n",
       "5. 'j22'\n",
       "6. 'j3'\n",
       "7. 'j34'\n",
       "8. 'j10'\n",
       "9. 'j100'\n",
       "10. 'j89'\n",
       "11. 'j80'\n",
       "12. 'j52'\n",
       "13. 'j70'\n",
       "14. 'j77'\n",
       "15. 'j51'\n",
       "\n",
       "\n",
       "\n",
       "$u20747\n",
       ":   1. 'j83'\n",
       "2. 'j89'\n",
       "3. 'j93'\n",
       "4. 'j91'\n",
       "5. 'j92'\n",
       "6. 'j72'\n",
       "7. 'j84'\n",
       "8. 'j97'\n",
       "9. 'j100'\n",
       "10. 'j98'\n",
       "11. 'j78'\n",
       "12. 'j87'\n",
       "13. 'j81'\n",
       "14. 'j82'\n",
       "15. 'j86'\n",
       "\n",
       "\n",
       "\n",
       "$u4519\n",
       ":   1. 'j89'\n",
       "2. 'j88'\n",
       "3. 'j87'\n",
       "4. 'j72'\n",
       "5. 'j91'\n",
       "6. 'j92'\n",
       "7. 'j84'\n",
       "8. 'j80'\n",
       "9. 'j83'\n",
       "10. 'j81'\n",
       "11. 'j71'\n",
       "12. 'j73'\n",
       "13. 'j79'\n",
       "14. 'j75'\n",
       "15. 'j78'\n",
       "\n",
       "\n",
       "\n",
       "$u13802\n",
       ":   1. 'j72'\n",
       "2. 'j93'\n",
       "3. 'j80'\n",
       "4. 'j75'\n",
       "5. 'j87'\n",
       "6. 'j89'\n",
       "7. 'j91'\n",
       "8. 'j81'\n",
       "9. 'j100'\n",
       "10. 'j76'\n",
       "11. 'j79'\n",
       "12. 'j77'\n",
       "13. 'j90'\n",
       "14. 'j97'\n",
       "15. 'j73'\n",
       "\n",
       "\n",
       "\n",
       "$u7722\n",
       ":   1. 'j87'\n",
       "2. 'j83'\n",
       "3. 'j86'\n",
       "4. 'j3'\n",
       "5. 'j89'\n",
       "6. 'j76'\n",
       "7. 'j72'\n",
       "8. 'j78'\n",
       "9. 'j92'\n",
       "10. 'j93'\n",
       "11. 'j91'\n",
       "12. 'j64'\n",
       "13. 'j43'\n",
       "14. 'j82'\n",
       "15. 'j1'\n",
       "\n",
       "\n",
       "\n",
       "$u21555\n",
       ":   1. 'j81'\n",
       "2. 'j76'\n",
       "3. 'j72'\n",
       "4. 'j97'\n",
       "5. 'j83'\n",
       "6. 'j74'\n",
       "7. 'j87'\n",
       "8. 'j85'\n",
       "9. 'j90'\n",
       "10. 'j96'\n",
       "11. 'j89'\n",
       "12. 'j93'\n",
       "13. 'j84'\n",
       "14. 'j91'\n",
       "15. 'j82'\n",
       "\n",
       "\n",
       "\n",
       "\n",
       "\n"
      ],
      "text/plain": [
       "$u7904\n",
       " [1] \"j28\"  \"j38\"  \"j14\"  \"j26\"  \"j22\"  \"j3\"   \"j34\"  \"j10\"  \"j100\" \"j89\" \n",
       "[11] \"j80\"  \"j52\"  \"j70\"  \"j77\"  \"j51\" \n",
       "\n",
       "$u20747\n",
       " [1] \"j83\"  \"j89\"  \"j93\"  \"j91\"  \"j92\"  \"j72\"  \"j84\"  \"j97\"  \"j100\" \"j98\" \n",
       "[11] \"j78\"  \"j87\"  \"j81\"  \"j82\"  \"j86\" \n",
       "\n",
       "$u4519\n",
       " [1] \"j89\" \"j88\" \"j87\" \"j72\" \"j91\" \"j92\" \"j84\" \"j80\" \"j83\" \"j81\" \"j71\" \"j73\"\n",
       "[13] \"j79\" \"j75\" \"j78\"\n",
       "\n",
       "$u13802\n",
       " [1] \"j72\"  \"j93\"  \"j80\"  \"j75\"  \"j87\"  \"j89\"  \"j91\"  \"j81\"  \"j100\" \"j76\" \n",
       "[11] \"j79\"  \"j77\"  \"j90\"  \"j97\"  \"j73\" \n",
       "\n",
       "$u7722\n",
       " [1] \"j87\" \"j83\" \"j86\" \"j3\"  \"j89\" \"j76\" \"j72\" \"j78\" \"j92\" \"j93\" \"j91\" \"j64\"\n",
       "[13] \"j43\" \"j82\" \"j1\" \n",
       "\n",
       "$u21555\n",
       " [1] \"j81\" \"j76\" \"j72\" \"j97\" \"j83\" \"j74\" \"j87\" \"j85\" \"j90\" \"j96\" \"j89\" \"j93\"\n",
       "[13] \"j84\" \"j91\" \"j82\"\n"
      ]
     },
     "metadata": {},
     "output_type": "display_data"
    }
   ],
   "source": [
    "### The recommendations for 5 user will be given like \n",
    "rec_list[5:10]"
   ]
  },
  {
   "cell_type": "code",
   "execution_count": 300,
   "metadata": {},
   "outputs": [
    {
     "data": {
      "text/plain": [
       "number_of_items\n",
       "  0   1   2   3   4   5   6   7   8   9  10  11  12  13  14  15 \n",
       "287   5   2   1   2   3   1   1   4   2   2   2   3   3   5 726 "
      ]
     },
     "metadata": {},
     "output_type": "display_data"
    }
   ],
   "source": [
    "### We perceive what number of proposals are created for all the test users by running the next code block:\n",
    "number_of_items = sort(unlist(lapply(rec_list, length)), decreasing = TRUE)\n",
    "table(number_of_items)"
   ]
  },
  {
   "cell_type": "markdown",
   "metadata": {},
   "source": [
    "From the above outcomes, we see that for 287 clients, zero suggestions were created. The reason is that they have appraised every one of the movies in the first dataset. For 726 users, 15 ratings for every one of them has been created. The reason is that in the first dataset, they have not rated for any movies. Different users who have gotten 2, 3, 4, etc. recommendation implies that they have recommended not very many movies."
   ]
  },
  {
   "cell_type": "markdown",
   "metadata": {},
   "source": [
    "### 4. Analyzing the Dataset"
   ]
  },
  {
   "cell_type": "code",
   "execution_count": 301,
   "metadata": {
    "scrolled": true
   },
   "outputs": [
    {
     "data": {
      "text/plain": [
       "\n",
       "  36   37   38   39   40   41   42   43   44   45   46   47   48   49   50   51 \n",
       " 114   77   80   78   74   70   74   75   80   81   70   60   69   61   62   47 \n",
       "  52   53   54   55   56   57   58   59   60   61   62   63   64   65   66   67 \n",
       "  42   52   52   48   56   54   34   43   48   41   42   42   41   53   51   39 \n",
       "  68   69   70   71   72   73   74   75   76   77   78   79   80   81   82   83 \n",
       "  39   29   87  221  364  312  131   48   36   19   33   32   38   20   19   18 \n",
       "  84   85   86   87   88   89   90   91   92   93   94   95   96   97   98   99 \n",
       "  15   23   21   12   12   11   14   16   10   12   12   11   16   13    8   16 \n",
       " 100 \n",
       "1422 "
      ]
     },
     "metadata": {},
     "output_type": "display_data"
    }
   ],
   "source": [
    "table(rowCounts(Jester5k)) ### This code will give us the number of ratings given to each joke:"
   ]
  },
  {
   "cell_type": "markdown",
   "metadata": {},
   "source": [
    "By investigating the number of appraisals given by every one of the users for the jokes, we can see that there are 1422 individuals who have appraised each of the 100 jokes, which is by all accounts bizarre as there are not many individuals who have appraised 80 to 99 jokes. Further dissecting the jokes we find that there are 221, 364, 312, and 131 clients who have appraised 71, 72, 73, and 74 jokes individually which are by all accounts unordinary contrasted with other joke evaluations."
   ]
  },
  {
   "cell_type": "code",
   "execution_count": 302,
   "metadata": {},
   "outputs": [
    {
     "data": {
      "text/html": [
       "<ol class=list-inline>\n",
       "\t<li>3399</li>\n",
       "\t<li>100</li>\n",
       "</ol>\n"
      ],
      "text/latex": [
       "\\begin{enumerate*}\n",
       "\\item 3399\n",
       "\\item 100\n",
       "\\end{enumerate*}\n"
      ],
      "text/markdown": [
       "1. 3399\n",
       "2. 100\n",
       "\n",
       "\n"
      ],
      "text/plain": [
       "[1] 3399  100"
      ]
     },
     "metadata": {},
     "output_type": "display_data"
    }
   ],
   "source": [
    "### For next step we will evacuate the ratings of clients who have appraised at least 60 jokes as \n",
    "model_data = Jester5k[rowCounts(Jester5k) > 60]\n",
    "dim(model_data)"
   ]
  },
  {
   "cell_type": "markdown",
   "metadata": {},
   "source": [
    "The measurement has been diminished from 5000 to 3339 records. Presently how about we investigate the normal ratings given by every client. A boxplot demonstrates to us the normal appropriation of the joke evaluations."
   ]
  },
  {
   "cell_type": "code",
   "execution_count": 303,
   "metadata": {},
   "outputs": [
    {
     "data": {
      "image/png": "[encoded data removed]",
      "text/plain": [
       "plot without title"
      ]
     },
     "metadata": {},
     "output_type": "display_data"
    }
   ],
   "source": [
    "boxplot(rowMeans(model_data [rowMeans(model_data)>=-10 & rowMeans(model_data)<=\n",
    "10]))"
   ]
  },
  {
   "cell_type": "markdown",
   "metadata": {},
   "source": [
    "The previous plot demonstrates to us that there are not very many evaluations that veer off from typical conduct. From the previous picture, we see that the normal evaluations that are over 7 (around) and underneath -5 (roughly) are somewhat exceptions and are less in number."
   ]
  },
  {
   "cell_type": "code",
   "execution_count": 304,
   "metadata": {},
   "outputs": [
    {
     "data": {
      "image/png": "[encoded data removed]",
      "text/plain": [
       "plot without title"
      ]
     },
     "metadata": {},
     "output_type": "display_data"
    }
   ],
   "source": [
    "boxplot(rowMeans(model_data [rowMeans(model_data)>=-5 & rowMeans(model_data)<=7]))"
   ]
  },
  {
   "cell_type": "code",
   "execution_count": 305,
   "metadata": {},
   "outputs": [
    {
     "data": {
      "text/html": [
       "<ol class=list-inline>\n",
       "\t<li>3300</li>\n",
       "\t<li>100</li>\n",
       "</ol>\n"
      ],
      "text/latex": [
       "\\begin{enumerate*}\n",
       "\\item 3300\n",
       "\\item 100\n",
       "\\end{enumerate*}\n"
      ],
      "text/markdown": [
       "1. 3300\n",
       "2. 100\n",
       "\n",
       "\n"
      ],
      "text/plain": [
       "[1] 3300  100"
      ]
     },
     "metadata": {},
     "output_type": "display_data"
    }
   ],
   "source": [
    "# To drop clients who have given exceptionally low normal appraisals and high normal evaluations. \n",
    "model_data = model_data [rowMeans(model_data)>=-5 & rowMeans(model_data)<= 7]\n",
    "dim(model_data)"
   ]
  },
  {
   "cell_type": "markdown",
   "metadata": {},
   "source": [
    "We should inspect the rating conveyance of the initial 100 clients in the information as pursues:"
   ]
  },
  {
   "cell_type": "code",
   "execution_count": 306,
   "metadata": {},
   "outputs": [
    {
     "data": {
      "image/png": "[encoded data removed]",
      "text/plain": [
       "plot without title"
      ]
     },
     "metadata": {},
     "output_type": "display_data"
    }
   ],
   "source": [
    "image(model_data[1:100], main = \"Rating Distribution of 100 users\")\n"
   ]
  },
  {
   "cell_type": "markdown",
   "metadata": {},
   "source": [
    "### 5. Creating the Recommendation Model With the k-Fold Cross-Validation"
   ]
  },
  {
   "cell_type": "markdown",
   "metadata": {},
   "source": [
    "We utilize cross-validation strategy to part the information, for instance, the 5-overlay cross-validation approach separates the preparation information into five smaller sets where four sets will be used for training the model and the staying one set is utilized for testing the model. We should characterize the parameters into least great appraisals, the number of folds for cross-approval technique, and split technique as pursues:"
   ]
  },
  {
   "cell_type": "code",
   "execution_count": 307,
   "metadata": {},
   "outputs": [],
   "source": [
    "items_to_keep <- 30 ### items_to_keep defines the base number of items to use to produce\n",
    "rating_threshold <- 3 ### rating_threshold defines the minimum raitng that is that is acknowledged as favorable rating\n",
    "n_fold <- 5  ### n_fold defines the cross-validaton. 4 training sets out of 5 and 1 test set\n",
    "eval_sets <- evaluationScheme(data = model_data, method = \"cross-validation\",\n",
    "                              train = percentage_training, given = items_to_keep, \n",
    "                              goodRating = rating_threshold, k = n_fold)"
   ]
  },
  {
   "cell_type": "code",
   "execution_count": 308,
   "metadata": {},
   "outputs": [
    {
     "data": {
      "text/html": [
       "<ol class=list-inline>\n",
       "\t<li>2640</li>\n",
       "\t<li>2640</li>\n",
       "\t<li>2640</li>\n",
       "\t<li>2640</li>\n",
       "\t<li>2640</li>\n",
       "</ol>\n"
      ],
      "text/latex": [
       "\\begin{enumerate*}\n",
       "\\item 2640\n",
       "\\item 2640\n",
       "\\item 2640\n",
       "\\item 2640\n",
       "\\item 2640\n",
       "\\end{enumerate*}\n"
      ],
      "text/markdown": [
       "1. 2640\n",
       "2. 2640\n",
       "3. 2640\n",
       "4. 2640\n",
       "5. 2640\n",
       "\n",
       "\n"
      ],
      "text/plain": [
       "[1] 2640 2640 2640 2640 2640"
      ]
     },
     "metadata": {},
     "output_type": "display_data"
    }
   ],
   "source": [
    "### Five sets made by the crossvalidation approach\n",
    "size_sets <- sapply(eval_sets@runsTrain, length)\n",
    "size_sets"
   ]
  },
  {
   "cell_type": "markdown",
   "metadata": {},
   "source": [
    "So as to remove the sets, we have to utilize getData() function. There are three sets; \"train\" is the training set, \"known\"  is the test set, with the item used to build the recommendations, \"unknown\" is the test set, with the item used to test the recommendations"
   ]
  },
  {
   "cell_type": "code",
   "execution_count": 309,
   "metadata": {},
   "outputs": [
    {
     "data": {
      "text/plain": [
       "2640 x 100 rating matrix of class 'realRatingMatrix' with 223401 ratings."
      ]
     },
     "metadata": {},
     "output_type": "display_data"
    },
    {
     "data": {
      "text/plain": [
       "660 x 100 rating matrix of class 'realRatingMatrix' with 19800 ratings."
      ]
     },
     "metadata": {},
     "output_type": "display_data"
    },
    {
     "data": {
      "text/plain": [
       "660 x 100 rating matrix of class 'realRatingMatrix' with 36562 ratings."
      ]
     },
     "metadata": {},
     "output_type": "display_data"
    }
   ],
   "source": [
    "getData(eval_sets,\"train\")\n",
    "getData(eval_sets,\"known\")\n",
    "getData(eval_sets,\"unknown\")"
   ]
  },
  {
   "cell_type": "markdown",
   "metadata": {},
   "source": [
    "### 6. Designing User-Based Collaborative Filtering\n",
    "Presently we assess the models, we should set the parameters model_to_evaluate with user-based community oriented separating and model_parameters with NULL for utilizing default settings as pursues:"
   ]
  },
  {
   "cell_type": "code",
   "execution_count": 310,
   "metadata": {},
   "outputs": [],
   "source": [
    "model_to_evaluate <- \"UBCF\"\n",
    "model_parameters <- NULL\n",
    "\n",
    "### We will build the recommender model using \"recommender()\" function, such as\n",
    "eval_recommender <- Recommender(data = getData(eval_sets,\"train\"),\n",
    "                                method = model_to_evaluate,\n",
    "                               parameter = model_parameters)"
   ]
  },
  {
   "cell_type": "markdown",
   "metadata": {},
   "source": [
    "We have seen that the user-based recommender model has been scholarly with preparation information of 2640 clients. Presently we can foresee the known ratings in eval_sets and assess the outcomes with obscure sets as portrayed before. Prior to making the forecasts for the known appraisals, we need to set the number of things to be suggested. Next, we need to give the test set to the predict() work for expectation. The expectation of evaluations is finished by running the code;"
   ]
  },
  {
   "cell_type": "code",
   "execution_count": 311,
   "metadata": {},
   "outputs": [
    {
     "data": {
      "text/plain": [
       "660 x 100 rating matrix of class 'realRatingMatrix' with 46200 ratings."
      ]
     },
     "metadata": {},
     "output_type": "display_data"
    }
   ],
   "source": [
    "items_to_recommend <- 20\n",
    "eval_prediction <- predict(object = eval_recommender, newdata = getData(eval_sets,\n",
    "                          \"known\"), n = items_to_recommend, type = \"ratings\")\n",
    "eval_prediction"
   ]
  },
  {
   "cell_type": "markdown",
   "metadata": {},
   "source": [
    "Executing the predict() function will be costly because the user-based collaborative filtering approach is memory-based and a lazy learning system actualized at run time, to appear that the entire dataset is stacked amid the expectation. \n",
    "\n",
    "Now we will assess the expectations with the unknown sets and estimate the model exactness with measurements. For example, precision, recall, and F1 measure. The next code measures the model precision measurements by calling the calcPredicitonAccuracy() method:"
   ]
  },
  {
   "cell_type": "code",
   "execution_count": 312,
   "metadata": {},
   "outputs": [
    {
     "data": {
      "text/html": [
       "<table>\n",
       "<caption>A matrix: 6 × 3 of type dbl[,3]</caption>\n",
       "<thead>\n",
       "\t<tr><th></th><th scope=col>RMSE</th><th scope=col>MSE</th><th scope=col>MAE</th></tr>\n",
       "</thead>\n",
       "<tbody>\n",
       "\t<tr><th scope=row>u15221</th><td>2.781407</td><td> 7.736225</td><td>2.124533</td></tr>\n",
       "\t<tr><th scope=row>u16636</th><td>3.386843</td><td>11.470704</td><td>2.869025</td></tr>\n",
       "\t<tr><th scope=row>u12843</th><td>3.932626</td><td>15.465545</td><td>3.343523</td></tr>\n",
       "\t<tr><th scope=row>u17322</th><td>4.671722</td><td>21.824983</td><td>3.789692</td></tr>\n",
       "\t<tr><th scope=row>u13610</th><td>4.700150</td><td>22.091405</td><td>3.749364</td></tr>\n",
       "\t<tr><th scope=row>u3970</th><td>5.579059</td><td>31.125897</td><td>4.640190</td></tr>\n",
       "</tbody>\n",
       "</table>\n"
      ],
      "text/latex": [
       "A matrix: 6 × 3 of type dbl{[},3{]}\n",
       "\\begin{tabular}{r|lll}\n",
       "  & RMSE & MSE & MAE\\\\\n",
       "\\hline\n",
       "\tu15221 & 2.781407 &  7.736225 & 2.124533\\\\\n",
       "\tu16636 & 3.386843 & 11.470704 & 2.869025\\\\\n",
       "\tu12843 & 3.932626 & 15.465545 & 3.343523\\\\\n",
       "\tu17322 & 4.671722 & 21.824983 & 3.789692\\\\\n",
       "\tu13610 & 4.700150 & 22.091405 & 3.749364\\\\\n",
       "\tu3970 & 5.579059 & 31.125897 & 4.640190\\\\\n",
       "\\end{tabular}\n"
      ],
      "text/markdown": [
       "\n",
       "A matrix: 6 × 3 of type dbl[,3]\n",
       "\n",
       "| <!--/--> | RMSE | MSE | MAE |\n",
       "|---|---|---|---|\n",
       "| u15221 | 2.781407 |  7.736225 | 2.124533 |\n",
       "| u16636 | 3.386843 | 11.470704 | 2.869025 |\n",
       "| u12843 | 3.932626 | 15.465545 | 3.343523 |\n",
       "| u17322 | 4.671722 | 21.824983 | 3.789692 |\n",
       "| u13610 | 4.700150 | 22.091405 | 3.749364 |\n",
       "| u3970 | 5.579059 | 31.125897 | 4.640190 |\n",
       "\n"
      ],
      "text/plain": [
       "       RMSE     MSE       MAE     \n",
       "u15221 2.781407  7.736225 2.124533\n",
       "u16636 3.386843 11.470704 2.869025\n",
       "u12843 3.932626 15.465545 3.343523\n",
       "u17322 4.671722 21.824983 3.789692\n",
       "u13610 4.700150 22.091405 3.749364\n",
       "u3970  5.579059 31.125897 4.640190"
      ]
     },
     "metadata": {},
     "output_type": "display_data"
    }
   ],
   "source": [
    "eval_accuracy <- calcPredictionAccuracy( x = eval_prediction, data = getData(eval_sets, \"unknown\"), byUser = TRUE)\n",
    "head(eval_accuracy)"
   ]
  },
  {
   "cell_type": "markdown",
   "metadata": {},
   "source": [
    "By setting byUser = TRUE, we are figuring the model exactness for every client. Taking the normal will give us the general exactness as pursues:"
   ]
  },
  {
   "cell_type": "code",
   "execution_count": 313,
   "metadata": {},
   "outputs": [
    {
     "data": {
      "text/html": [
       "<dl class=dl-horizontal>\n",
       "\t<dt>RMSE</dt>\n",
       "\t\t<dd>4.11900388606753</dd>\n",
       "\t<dt>MSE</dt>\n",
       "\t\t<dd>18.6474987725582</dd>\n",
       "\t<dt>MAE</dt>\n",
       "\t\t<dd>3.38894269998099</dd>\n",
       "</dl>\n"
      ],
      "text/latex": [
       "\\begin{description*}\n",
       "\\item[RMSE] 4.11900388606753\n",
       "\\item[MSE] 18.6474987725582\n",
       "\\item[MAE] 3.38894269998099\n",
       "\\end{description*}\n"
      ],
      "text/markdown": [
       "RMSE\n",
       ":   4.11900388606753MSE\n",
       ":   18.6474987725582MAE\n",
       ":   3.38894269998099\n",
       "\n"
      ],
      "text/plain": [
       "     RMSE       MSE       MAE \n",
       " 4.119004 18.647499  3.388943 "
      ]
     },
     "metadata": {},
     "output_type": "display_data"
    }
   ],
   "source": [
    "apply(eval_accuracy,2,mean)"
   ]
  },
  {
   "cell_type": "markdown",
   "metadata": {},
   "source": [
    "By setting byUser=FALSE, in the past calcPredictionAccuracy() we can ascertain the by and large model precision given by the accompanying:"
   ]
  },
  {
   "cell_type": "code",
   "execution_count": 314,
   "metadata": {},
   "outputs": [
    {
     "data": {
      "text/html": [
       "<dl class=dl-horizontal>\n",
       "\t<dt>RMSE</dt>\n",
       "\t\t<dd>4.34228220698213</dd>\n",
       "\t<dt>MSE</dt>\n",
       "\t\t<dd>18.8554147650736</dd>\n",
       "\t<dt>MAE</dt>\n",
       "\t\t<dd>3.4097419891538</dd>\n",
       "</dl>\n"
      ],
      "text/latex": [
       "\\begin{description*}\n",
       "\\item[RMSE] 4.34228220698213\n",
       "\\item[MSE] 18.8554147650736\n",
       "\\item[MAE] 3.4097419891538\n",
       "\\end{description*}\n"
      ],
      "text/markdown": [
       "RMSE\n",
       ":   4.34228220698213MSE\n",
       ":   18.8554147650736MAE\n",
       ":   3.4097419891538\n",
       "\n"
      ],
      "text/plain": [
       "     RMSE       MSE       MAE \n",
       " 4.342282 18.855415  3.409742 "
      ]
     },
     "metadata": {},
     "output_type": "display_data"
    }
   ],
   "source": [
    "eval_accuracy <- calcPredictionAccuracy(x = eval_prediction, data = getData(eval_sets,\"unknown\"), byUser = FALSE)\n",
    "eval_accuracy"
   ]
  },
  {
   "cell_type": "markdown",
   "metadata": {},
   "source": [
    "Where RMSE means <b>Root Mean Square Error</b>, MSE means <b>Mean Square Error</b>, and MAE means <b>Mean Absolute Error</b>. We can likewise assess the model exactness utilizing precision/recall. For this, we utilize the evaluate() capacity and afterward the consequence of the evaluate() technique is utilized to make a confusion matrix containing accuracy/review/f1 measures as pursues:"
   ]
  },
  {
   "cell_type": "code",
   "execution_count": 315,
   "metadata": {},
   "outputs": [
    {
     "name": "stdout",
     "output_type": "stream",
     "text": [
      "UBCF run fold/sample [model time/prediction time]\n",
      "\t 1  [0.03sec/2.69sec] \n",
      "\t 2  [0.03sec/2.65sec] \n",
      "\t 3  [0.01sec/2.7sec] \n",
      "\t 4  [0.02sec/2.59sec] \n",
      "\t 5  [0.03sec/2.53sec] \n"
     ]
    }
   ],
   "source": [
    "results <- evaluate(x = eval_sets, method = model_to_evaluate, n = seq(1, 100, 5))"
   ]
  },
  {
   "cell_type": "code",
   "execution_count": 316,
   "metadata": {},
   "outputs": [
    {
     "data": {
      "text/html": [
       "<table>\n",
       "<caption>A matrix: 6 × 8 of type dbl[,8]</caption>\n",
       "<thead>\n",
       "\t<tr><th></th><th scope=col>TP</th><th scope=col>FP</th><th scope=col>FN</th><th scope=col>TN</th><th scope=col>precision</th><th scope=col>recall</th><th scope=col>TPR</th><th scope=col>FPR</th></tr>\n",
       "</thead>\n",
       "<tbody>\n",
       "\t<tr><th scope=row>1</th><td> 0.6227273</td><td> 0.3772727</td><td>20.874242</td><td>48.12576</td><td>0.6227273</td><td>0.03744411</td><td>0.03744411</td><td>0.007160292</td></tr>\n",
       "\t<tr><th scope=row>6</th><td> 3.4939394</td><td> 2.5060606</td><td>18.003030</td><td>45.99697</td><td>0.5823232</td><td>0.19642324</td><td>0.19642324</td><td>0.048318247</td></tr>\n",
       "\t<tr><th scope=row>11</th><td> 6.0469697</td><td> 4.9530303</td><td>15.450000</td><td>43.55000</td><td>0.5497245</td><td>0.32746806</td><td>0.32746806</td><td>0.096602980</td></tr>\n",
       "\t<tr><th scope=row>16</th><td> 8.1242424</td><td> 7.8757576</td><td>13.372727</td><td>40.62727</td><td>0.5077652</td><td>0.42417064</td><td>0.42417064</td><td>0.154024010</td></tr>\n",
       "\t<tr><th scope=row>21</th><td> 9.9272727</td><td>11.0727273</td><td>11.569697</td><td>37.43030</td><td>0.4727273</td><td>0.50352192</td><td>0.50352192</td><td>0.217074013</td></tr>\n",
       "\t<tr><th scope=row>26</th><td>11.5181818</td><td>14.4818182</td><td> 9.978788</td><td>34.02121</td><td>0.4430070</td><td>0.57256803</td><td>0.57256803</td><td>0.284973501</td></tr>\n",
       "</tbody>\n",
       "</table>\n"
      ],
      "text/latex": [
       "A matrix: 6 × 8 of type dbl{[},8{]}\n",
       "\\begin{tabular}{r|llllllll}\n",
       "  & TP & FP & FN & TN & precision & recall & TPR & FPR\\\\\n",
       "\\hline\n",
       "\t1 &  0.6227273 &  0.3772727 & 20.874242 & 48.12576 & 0.6227273 & 0.03744411 & 0.03744411 & 0.007160292\\\\\n",
       "\t6 &  3.4939394 &  2.5060606 & 18.003030 & 45.99697 & 0.5823232 & 0.19642324 & 0.19642324 & 0.048318247\\\\\n",
       "\t11 &  6.0469697 &  4.9530303 & 15.450000 & 43.55000 & 0.5497245 & 0.32746806 & 0.32746806 & 0.096602980\\\\\n",
       "\t16 &  8.1242424 &  7.8757576 & 13.372727 & 40.62727 & 0.5077652 & 0.42417064 & 0.42417064 & 0.154024010\\\\\n",
       "\t21 &  9.9272727 & 11.0727273 & 11.569697 & 37.43030 & 0.4727273 & 0.50352192 & 0.50352192 & 0.217074013\\\\\n",
       "\t26 & 11.5181818 & 14.4818182 &  9.978788 & 34.02121 & 0.4430070 & 0.57256803 & 0.57256803 & 0.284973501\\\\\n",
       "\\end{tabular}\n"
      ],
      "text/markdown": [
       "\n",
       "A matrix: 6 × 8 of type dbl[,8]\n",
       "\n",
       "| <!--/--> | TP | FP | FN | TN | precision | recall | TPR | FPR |\n",
       "|---|---|---|---|---|---|---|---|---|\n",
       "| 1 |  0.6227273 |  0.3772727 | 20.874242 | 48.12576 | 0.6227273 | 0.03744411 | 0.03744411 | 0.007160292 |\n",
       "| 6 |  3.4939394 |  2.5060606 | 18.003030 | 45.99697 | 0.5823232 | 0.19642324 | 0.19642324 | 0.048318247 |\n",
       "| 11 |  6.0469697 |  4.9530303 | 15.450000 | 43.55000 | 0.5497245 | 0.32746806 | 0.32746806 | 0.096602980 |\n",
       "| 16 |  8.1242424 |  7.8757576 | 13.372727 | 40.62727 | 0.5077652 | 0.42417064 | 0.42417064 | 0.154024010 |\n",
       "| 21 |  9.9272727 | 11.0727273 | 11.569697 | 37.43030 | 0.4727273 | 0.50352192 | 0.50352192 | 0.217074013 |\n",
       "| 26 | 11.5181818 | 14.4818182 |  9.978788 | 34.02121 | 0.4430070 | 0.57256803 | 0.57256803 | 0.284973501 |\n",
       "\n"
      ],
      "text/plain": [
       "   TP         FP         FN        TN       precision recall     TPR       \n",
       "1   0.6227273  0.3772727 20.874242 48.12576 0.6227273 0.03744411 0.03744411\n",
       "6   3.4939394  2.5060606 18.003030 45.99697 0.5823232 0.19642324 0.19642324\n",
       "11  6.0469697  4.9530303 15.450000 43.55000 0.5497245 0.32746806 0.32746806\n",
       "16  8.1242424  7.8757576 13.372727 40.62727 0.5077652 0.42417064 0.42417064\n",
       "21  9.9272727 11.0727273 11.569697 37.43030 0.4727273 0.50352192 0.50352192\n",
       "26 11.5181818 14.4818182  9.978788 34.02121 0.4430070 0.57256803 0.57256803\n",
       "   FPR        \n",
       "1  0.007160292\n",
       "6  0.048318247\n",
       "11 0.096602980\n",
       "16 0.154024010\n",
       "21 0.217074013\n",
       "26 0.284973501"
      ]
     },
     "metadata": {},
     "output_type": "display_data"
    }
   ],
   "source": [
    "head(getConfusionMatrix(results)[[1]])"
   ]
  },
  {
   "cell_type": "markdown",
   "metadata": {},
   "source": [
    "- True Positives (TP): These are recommended items that have been rated correctly\n",
    "- False Positives (FP): These are recommended items that haven't been rated\n",
    "- False Negatives (FN): These are not recommended items that have been rated\n",
    "- True Negatives (TN): These are not recommended items that haven't been rated\n",
    "\n",
    "If we need to assess every one of the parts in the meantime, we can simply aggregate up to the files as pursues:"
   ]
  },
  {
   "cell_type": "code",
   "execution_count": 317,
   "metadata": {},
   "outputs": [
    {
     "data": {
      "text/html": [
       "<table>\n",
       "<caption>A matrix: 6 × 4 of type dbl[,4]</caption>\n",
       "<thead>\n",
       "\t<tr><th></th><th scope=col>TP</th><th scope=col>FP</th><th scope=col>FN</th><th scope=col>TN</th></tr>\n",
       "</thead>\n",
       "<tbody>\n",
       "\t<tr><th scope=row>1</th><td> 3.089394</td><td> 1.910606</td><td>104.04697</td><td>240.9530</td></tr>\n",
       "\t<tr><th scope=row>6</th><td>17.581818</td><td>12.418182</td><td> 89.55455</td><td>230.4455</td></tr>\n",
       "\t<tr><th scope=row>11</th><td>30.175758</td><td>24.824242</td><td> 76.96061</td><td>218.0394</td></tr>\n",
       "\t<tr><th scope=row>16</th><td>40.693939</td><td>39.306061</td><td> 66.44242</td><td>203.5576</td></tr>\n",
       "\t<tr><th scope=row>21</th><td>49.424242</td><td>55.575758</td><td> 57.71212</td><td>187.2879</td></tr>\n",
       "\t<tr><th scope=row>26</th><td>57.151515</td><td>72.848485</td><td> 49.98485</td><td>170.0152</td></tr>\n",
       "</tbody>\n",
       "</table>\n"
      ],
      "text/latex": [
       "A matrix: 6 × 4 of type dbl{[},4{]}\n",
       "\\begin{tabular}{r|llll}\n",
       "  & TP & FP & FN & TN\\\\\n",
       "\\hline\n",
       "\t1 &  3.089394 &  1.910606 & 104.04697 & 240.9530\\\\\n",
       "\t6 & 17.581818 & 12.418182 &  89.55455 & 230.4455\\\\\n",
       "\t11 & 30.175758 & 24.824242 &  76.96061 & 218.0394\\\\\n",
       "\t16 & 40.693939 & 39.306061 &  66.44242 & 203.5576\\\\\n",
       "\t21 & 49.424242 & 55.575758 &  57.71212 & 187.2879\\\\\n",
       "\t26 & 57.151515 & 72.848485 &  49.98485 & 170.0152\\\\\n",
       "\\end{tabular}\n"
      ],
      "text/markdown": [
       "\n",
       "A matrix: 6 × 4 of type dbl[,4]\n",
       "\n",
       "| <!--/--> | TP | FP | FN | TN |\n",
       "|---|---|---|---|---|\n",
       "| 1 |  3.089394 |  1.910606 | 104.04697 | 240.9530 |\n",
       "| 6 | 17.581818 | 12.418182 |  89.55455 | 230.4455 |\n",
       "| 11 | 30.175758 | 24.824242 |  76.96061 | 218.0394 |\n",
       "| 16 | 40.693939 | 39.306061 |  66.44242 | 203.5576 |\n",
       "| 21 | 49.424242 | 55.575758 |  57.71212 | 187.2879 |\n",
       "| 26 | 57.151515 | 72.848485 |  49.98485 | 170.0152 |\n",
       "\n"
      ],
      "text/plain": [
       "   TP        FP        FN        TN      \n",
       "1   3.089394  1.910606 104.04697 240.9530\n",
       "6  17.581818 12.418182  89.55455 230.4455\n",
       "11 30.175758 24.824242  76.96061 218.0394\n",
       "16 40.693939 39.306061  66.44242 203.5576\n",
       "21 49.424242 55.575758  57.71212 187.2879\n",
       "26 57.151515 72.848485  49.98485 170.0152"
      ]
     },
     "metadata": {},
     "output_type": "display_data"
    }
   ],
   "source": [
    "columns_to_sum <- c(\"TP\", \"FP\", \"FN\", \"TN\")\n",
    "indices_summed <- Reduce(\"+\", getConfusionMatrix(results))[, columns_to_sum]\n",
    "head(indices_summed)"
   ]
  },
  {
   "cell_type": "markdown",
   "metadata": {},
   "source": [
    "Since abridging the model is troublesome by alluding to the above table, we can utilize a ROC(Receiver Operating Characteristics) bend to assess the model. Use plot() to assemble the ROC plot as pursues:"
   ]
  },
  {
   "cell_type": "code",
   "execution_count": 318,
   "metadata": {},
   "outputs": [
    {
     "data": {
      "image/png": "[encoded data removed]",
      "text/plain": [
       "Plot with title \"ROC Curve\""
      ]
     },
     "metadata": {},
     "output_type": "display_data"
    }
   ],
   "source": [
    "plot(results, annotate = TRUE, main = \"ROC Curve\")"
   ]
  },
  {
   "cell_type": "markdown",
   "metadata": {},
   "source": [
    "This plot demonstrates the connection between True Positive Rate (TPR) and False Positive Rate (FPR). However, we need to pick the qualities so that we give an exchange off among TPR and FPR. For our situation, we see that nn=31 is a generally excellent exchange off since while considering neighbors of 31 we have TPR closer to 0.7, FPR is 0.4 and when moving to nn=36 the TPR is still near 0.6 however the FPR has been changed to 0.4. This implies the False Positive Rate has been expanded."
   ]
  },
  {
   "cell_type": "markdown",
   "metadata": {},
   "source": [
    "ROC Curve: A graph showing the performance of a classification model at all classification thresholds. This curve plots two parameters:\n",
    "- TPR: True Positive Rate\n",
    "\n",
    "<i>TPR</i> = $\\frac{TP}{TP+FN}$\n",
    "\n",
    "- FPR: False Positive Rate\n",
    "\n",
    "<i>FPR</i> = $\\frac{FP}{FP+TN}$\n",
    "\n",
    "From this graph, it can be easily seen that False Positive Rate increased"
   ]
  },
  {
   "cell_type": "markdown",
   "metadata": {},
   "source": [
    "## C. Building an Item-based Recommender Model"
   ]
  },
  {
   "cell_type": "markdown",
   "metadata": {},
   "source": [
    "As we used in the UBCF, we are going to use the same Jester5k dataset for the IBCF recommender system. We first expel the user information of the individuals who have appraised every one of the items and furthermore those records who have rated more than 60 as pursues:"
   ]
  },
  {
   "cell_type": "code",
   "execution_count": 319,
   "metadata": {},
   "outputs": [
    {
     "data": {
      "text/plain": [
       "3399 x 100 rating matrix of class 'realRatingMatrix' with 287914 ratings."
      ]
     },
     "metadata": {},
     "output_type": "display_data"
    }
   ],
   "source": [
    "library(recommenderlab)\n",
    "data(\"Jester5k\")\n",
    "model_data = Jester5k[rowCounts(Jester5k)>60]\n",
    "model_data"
   ]
  },
  {
   "cell_type": "markdown",
   "metadata": {},
   "source": [
    "Distribution of the average ratings for each of the users:"
   ]
  },
  {
   "cell_type": "code",
   "execution_count": 320,
   "metadata": {},
   "outputs": [
    {
     "data": {
      "image/png": "[encoded data removed]",
      "text/plain": [
       "plot without title"
      ]
     },
     "metadata": {},
     "output_type": "display_data"
    }
   ],
   "source": [
    "boxplot(rowMeans(model_data))"
   ]
  },
  {
   "cell_type": "markdown",
   "metadata": {},
   "source": [
    "The next code computes the mean ratings given by each user and recognizes users who have given outrageous appraisals either extremely high ratings or exceptionally low evaluations:"
   ]
  },
  {
   "cell_type": "code",
   "execution_count": 321,
   "metadata": {},
   "outputs": [
    {
     "data": {
      "text/html": [
       "<ol class=list-inline>\n",
       "\t<li>75</li>\n",
       "\t<li>100</li>\n",
       "</ol>\n"
      ],
      "text/latex": [
       "\\begin{enumerate*}\n",
       "\\item 75\n",
       "\\item 100\n",
       "\\end{enumerate*}\n"
      ],
      "text/markdown": [
       "1. 75\n",
       "2. 100\n",
       "\n",
       "\n"
      ],
      "text/plain": [
       "[1]  75 100"
      ]
     },
     "metadata": {},
     "output_type": "display_data"
    }
   ],
   "source": [
    "dim(model_data[rowMeans(model_data) < -5])"
   ]
  },
  {
   "cell_type": "code",
   "execution_count": 322,
   "metadata": {},
   "outputs": [
    {
     "data": {
      "text/html": [
       "<ol class=list-inline>\n",
       "\t<li>24</li>\n",
       "\t<li>100</li>\n",
       "</ol>\n"
      ],
      "text/latex": [
       "\\begin{enumerate*}\n",
       "\\item 24\n",
       "\\item 100\n",
       "\\end{enumerate*}\n"
      ],
      "text/markdown": [
       "1. 24\n",
       "2. 100\n",
       "\n",
       "\n"
      ],
      "text/plain": [
       "[1]  24 100"
      ]
     },
     "metadata": {},
     "output_type": "display_data"
    }
   ],
   "source": [
    "dim(model_data[rowMeans(model_data) >= 7])"
   ]
  },
  {
   "cell_type": "markdown",
   "metadata": {},
   "source": [
    "From the above outputs, we see that there are 24 records with high average ratings furthermore, 75 records with low ratings, contrasted and most of the users. From the complete 3399 records, We will dispose of that 99 records to prepare a reasonable pool without outliers."
   ]
  },
  {
   "cell_type": "code",
   "execution_count": 323,
   "metadata": {},
   "outputs": [
    {
     "data": {
      "text/plain": [
       "3300 x 100 rating matrix of class 'realRatingMatrix' with 279763 ratings."
      ]
     },
     "metadata": {},
     "output_type": "display_data"
    }
   ],
   "source": [
    "model_data = model_data [rowMeans(model_data) >= -5 & rowMeans(model_data) < 7]\n",
    "model_data"
   ]
  },
  {
   "cell_type": "markdown",
   "metadata": {},
   "source": [
    "### 1. Preparing Training and Test Data\n",
    "\n",
    "The initial phase in structure any recommender model is to set up the preparation information. We will divide the dataset into two sets. 20% of the dataset will test set and the other 80% will be training set. We manufacture the recommender model utilizing the training set and create the recommendations on the test set"
   ]
  },
  {
   "cell_type": "code",
   "execution_count": 324,
   "metadata": {},
   "outputs": [
    {
     "data": {
      "text/html": [
       "'logical'"
      ],
      "text/latex": [
       "'logical'"
      ],
      "text/markdown": [
       "'logical'"
      ],
      "text/plain": [
       "[1] \"logical\""
      ]
     },
     "metadata": {},
     "output_type": "display_data"
    }
   ],
   "source": [
    "which_train = sample(x = c(TRUE, FALSE), size = nrow(model_data), replace = TRUE, prob = c(0.8, 0.2))\n",
    "class(which_train)"
   ]
  },
  {
   "cell_type": "code",
   "execution_count": 325,
   "metadata": {},
   "outputs": [
    {
     "data": {
      "text/html": [
       "<ol class=list-inline>\n",
       "\t<li>TRUE</li>\n",
       "\t<li>TRUE</li>\n",
       "\t<li>TRUE</li>\n",
       "\t<li>FALSE</li>\n",
       "\t<li>TRUE</li>\n",
       "\t<li>TRUE</li>\n",
       "</ol>\n"
      ],
      "text/latex": [
       "\\begin{enumerate*}\n",
       "\\item TRUE\n",
       "\\item TRUE\n",
       "\\item TRUE\n",
       "\\item FALSE\n",
       "\\item TRUE\n",
       "\\item TRUE\n",
       "\\end{enumerate*}\n"
      ],
      "text/markdown": [
       "1. TRUE\n",
       "2. TRUE\n",
       "3. TRUE\n",
       "4. FALSE\n",
       "5. TRUE\n",
       "6. TRUE\n",
       "\n",
       "\n"
      ],
      "text/plain": [
       "[1]  TRUE  TRUE  TRUE FALSE  TRUE  TRUE"
      ]
     },
     "metadata": {},
     "output_type": "display_data"
    }
   ],
   "source": [
    "head(which_train)"
   ]
  },
  {
   "cell_type": "markdown",
   "metadata": {},
   "source": [
    "At that point we utilize the logical object in the model_data to create the training set as pursues:"
   ]
  },
  {
   "cell_type": "code",
   "execution_count": 326,
   "metadata": {},
   "outputs": [
    {
     "data": {
      "text/html": [
       "<ol class=list-inline>\n",
       "\t<li>2689</li>\n",
       "\t<li>100</li>\n",
       "</ol>\n"
      ],
      "text/latex": [
       "\\begin{enumerate*}\n",
       "\\item 2689\n",
       "\\item 100\n",
       "\\end{enumerate*}\n"
      ],
      "text/markdown": [
       "1. 2689\n",
       "2. 100\n",
       "\n",
       "\n"
      ],
      "text/plain": [
       "[1] 2689  100"
      ]
     },
     "metadata": {},
     "output_type": "display_data"
    }
   ],
   "source": [
    "model_data_train = model_data[which_train,]\n",
    "dim(model_data_train)"
   ]
  },
  {
   "cell_type": "markdown",
   "metadata": {},
   "source": [
    "Then point we utilize the logical object in the model_data to create the test set as pursues:"
   ]
  },
  {
   "cell_type": "code",
   "execution_count": 327,
   "metadata": {},
   "outputs": [
    {
     "data": {
      "text/html": [
       "<ol class=list-inline>\n",
       "\t<li>611</li>\n",
       "\t<li>100</li>\n",
       "</ol>\n"
      ],
      "text/latex": [
       "\\begin{enumerate*}\n",
       "\\item 611\n",
       "\\item 100\n",
       "\\end{enumerate*}\n"
      ],
      "text/markdown": [
       "1. 611\n",
       "2. 100\n",
       "\n",
       "\n"
      ],
      "text/plain": [
       "[1] 611 100"
      ]
     },
     "metadata": {},
     "output_type": "display_data"
    }
   ],
   "source": [
    "model_data_test = model_data[!which_train,]\n",
    "dim(model_data_test)"
   ]
  },
  {
   "cell_type": "markdown",
   "metadata": {},
   "source": [
    "Since the test and training sets are ready, we are going to train the model and develop the top recommendations for the test set.\n",
    "\n",
    "### 2. Creating an Item-based Collaborative Model\n",
    "We are going to use the same \"recommender()\" function as we made for the UBFC. \n",
    "\n",
    "We set the model to assess as \"IBCF\" and k=25. k is the number of neighbors to be considered while computing the similarity values as pursues:"
   ]
  },
  {
   "cell_type": "code",
   "execution_count": 328,
   "metadata": {},
   "outputs": [],
   "source": [
    "model_to_evaluate = \"IBCF\"\n",
    "model_parameters = list(k = 25)"
   ]
  },
  {
   "cell_type": "markdown",
   "metadata": {},
   "source": [
    "The accompanying code demonstrates building the recommendation engine model utilizing the \"recommender()\" function and its input parameters such as input data, model to evaluate the parameters, and the k parameter:"
   ]
  },
  {
   "cell_type": "code",
   "execution_count": 329,
   "metadata": {},
   "outputs": [
    {
     "data": {
      "text/plain": [
       "Recommender of type 'IBCF' for 'realRatingMatrix' \n",
       "learned using 2689 users."
      ]
     },
     "metadata": {},
     "output_type": "display_data"
    }
   ],
   "source": [
    "model_recommender = Recommender(data = model_data_train, method = model_to_evaluate, parameter = model_parameters)\n",
    "model_recommender"
   ]
  },
  {
   "cell_type": "markdown",
   "metadata": {},
   "source": [
    "The above model trained and learned to utilize the 2626 training set data. To explore the model we are going to use the \"getModel()\" function which is possible to use in the recommenderlab."
   ]
  },
  {
   "cell_type": "code",
   "execution_count": 330,
   "metadata": {},
   "outputs": [
    {
     "name": "stdout",
     "output_type": "stream",
     "text": [
      "List of 9\n",
      " $ description         : chr \"IBCF: Reduced similarity matrix\"\n",
      " $ sim                 :Formal class 'dgCMatrix' [package \"Matrix\"] with 6 slots\n",
      "  .. ..@ i       : int [1:2500] 1 2 9 37 38 72 79 0 18 24 ...\n",
      "  .. ..@ p       : int [1:101] 0 7 20 28 76 83 98 116 137 168 ...\n",
      "  .. ..@ Dim     : int [1:2] 100 100\n",
      "  .. ..@ Dimnames:List of 2\n",
      "  .. .. ..$ : chr [1:100] \"j1\" \"j2\" \"j3\" \"j4\" ...\n",
      "  .. .. ..$ : chr [1:100] \"j1\" \"j2\" \"j3\" \"j4\" ...\n",
      "  .. ..@ x       : num [1:2500] 0.1961 0.1992 0.1319 0.0971 0.119 ...\n",
      "  .. ..@ factors : list()\n",
      " $ k                   : num 25\n",
      " $ method              : chr \"Cosine\"\n",
      " $ normalize           : chr \"center\"\n",
      " $ normalize_sim_matrix: logi FALSE\n",
      " $ alpha               : num 0.5\n",
      " $ na_as_zero          : logi FALSE\n",
      " $ verbose             : logi FALSE\n"
     ]
    }
   ],
   "source": [
    "str(getModel(model_recommender))"
   ]
  },
  {
   "cell_type": "markdown",
   "metadata": {},
   "source": [
    "From the above outcomes, the significant parameters to note are k value, the default similitude value, and technique \"cosine similarity. \n",
    "\n",
    "The last advance is to produce the recommendations on the test set. Running the accompanying code on the test set will  create the proposals. \"items_to_recommend\" is the parameter to set the quantity of proposals to be created for every user."
   ]
  },
  {
   "cell_type": "code",
   "execution_count": 331,
   "metadata": {},
   "outputs": [
    {
     "data": {
      "text/plain": [
       "Recommendations as 'topNList' with n = 20 for 611 users. "
      ]
     },
     "metadata": {},
     "output_type": "display_data"
    }
   ],
   "source": [
    "items_to_recommend = 20\n",
    "model_prediction = predict(object = model_recommender, newdata = model_data_test, n = items_to_recommend)\n",
    "model_prediction"
   ]
  },
  {
   "cell_type": "code",
   "execution_count": 332,
   "metadata": {},
   "outputs": [
    {
     "name": "stdout",
     "output_type": "stream",
     "text": [
      "[1] \"topNList\"\n",
      "attr(,\"package\")\n",
      "[1] \"recommenderlab\"\n"
     ]
    }
   ],
   "source": [
    "print(class(model_prediction))"
   ]
  },
  {
   "cell_type": "markdown",
   "metadata": {},
   "source": [
    "With slotNames() funciton, we can get the opening subtleties of the forecast article;"
   ]
  },
  {
   "cell_type": "code",
   "execution_count": 333,
   "metadata": {},
   "outputs": [
    {
     "data": {
      "text/html": [
       "<ol class=list-inline>\n",
       "\t<li>'items'</li>\n",
       "\t<li>'ratings'</li>\n",
       "\t<li>'itemLabels'</li>\n",
       "\t<li>'n'</li>\n",
       "</ol>\n"
      ],
      "text/latex": [
       "\\begin{enumerate*}\n",
       "\\item 'items'\n",
       "\\item 'ratings'\n",
       "\\item 'itemLabels'\n",
       "\\item 'n'\n",
       "\\end{enumerate*}\n"
      ],
      "text/markdown": [
       "1. 'items'\n",
       "2. 'ratings'\n",
       "3. 'itemLabels'\n",
       "4. 'n'\n",
       "\n",
       "\n"
      ],
      "text/plain": [
       "[1] \"items\"      \"ratings\"    \"itemLabels\" \"n\"         "
      ]
     },
     "metadata": {},
     "output_type": "display_data"
    }
   ],
   "source": [
    "slotNames(model_prediction)"
   ]
  },
  {
   "cell_type": "markdown",
   "metadata": {},
   "source": [
    "Forecasts produced for the first user in the test set:"
   ]
  },
  {
   "cell_type": "code",
   "execution_count": 334,
   "metadata": {},
   "outputs": [
    {
     "data": {
      "text/html": [],
      "text/latex": [],
      "text/markdown": [],
      "text/plain": [
       "integer(0)"
      ]
     },
     "metadata": {},
     "output_type": "display_data"
    }
   ],
   "source": [
    "model_prediction@items[[1]]"
   ]
  },
  {
   "cell_type": "markdown",
   "metadata": {},
   "source": [
    "Adding the item labels to every foreceasts:"
   ]
  },
  {
   "cell_type": "code",
   "execution_count": 335,
   "metadata": {},
   "outputs": [
    {
     "data": {
      "text/html": [],
      "text/latex": [],
      "text/markdown": [],
      "text/plain": [
       "character(0)"
      ]
     },
     "metadata": {},
     "output_type": "display_data"
    }
   ],
   "source": [
    "rec_user_1 = model_prediction@items[[1]]\n",
    "joke_user_1 = model_prediction@itemLabels[rec_user_1]\n",
    "joke_user_1"
   ]
  },
  {
   "cell_type": "markdown",
   "metadata": {},
   "source": [
    "### 3. Evaluating the Model\n",
    "As we did in UBCF, we can utilize the function evaluationScheme(). Firstly we are going to prepare a test and training sets to obtain the training.\n",
    "\n",
    "The next code will create training and test sets. "
   ]
  },
  {
   "cell_type": "code",
   "execution_count": 336,
   "metadata": {},
   "outputs": [],
   "source": [
    "n_fold = 4  ### n_fold defines the cross-validaton. 3 training sets out of 4 and 1 test set\n",
    "items_to_keep = 20 ### items_to_keep defines the base number of items to use to produce\n",
    "rating_threshold = 3.5 ### rating_threshold defines the minimum raitng that is that is acknowledged as favorable rating"
   ]
  },
  {
   "cell_type": "code",
   "execution_count": 337,
   "metadata": {},
   "outputs": [
    {
     "data": {
      "text/html": [
       "<ol class=list-inline>\n",
       "\t<li>2475</li>\n",
       "\t<li>2475</li>\n",
       "\t<li>2475</li>\n",
       "\t<li>2475</li>\n",
       "</ol>\n"
      ],
      "text/latex": [
       "\\begin{enumerate*}\n",
       "\\item 2475\n",
       "\\item 2475\n",
       "\\item 2475\n",
       "\\item 2475\n",
       "\\end{enumerate*}\n"
      ],
      "text/markdown": [
       "1. 2475\n",
       "2. 2475\n",
       "3. 2475\n",
       "4. 2475\n",
       "\n",
       "\n"
      ],
      "text/plain": [
       "[1] 2475 2475 2475 2475"
      ]
     },
     "metadata": {},
     "output_type": "display_data"
    }
   ],
   "source": [
    "eval_sets = evaluationScheme(data = model_data, method = \"cross-validation\",\n",
    "                            k = n_fold, given = items_to_keep,\n",
    "                            goodRating = rating_threshold)\n",
    "size_sets = sapply(eval_sets@runsTrain, length)\n",
    "size_sets"
   ]
  },
  {
   "cell_type": "markdown",
   "metadata": {},
   "source": [
    "Set the model_to_evaluate to set the recommender method to be utilized. model_parameters characterizes the model parameters, for example, the quantity of neighbors to be considered while processing the closeness utilizing cosine. For the first time being, we are going to set the parameter as NULL so as to make the model pick the default esteems."
   ]
  },
  {
   "cell_type": "code",
   "execution_count": 338,
   "metadata": {},
   "outputs": [],
   "source": [
    "model_to_evaluate = \"IBCF\"\n",
    "model_parameters = NULL"
   ]
  },
  {
   "cell_type": "markdown",
   "metadata": {},
   "source": [
    "With recommender() function will generate the model. To understand the parameters of the recommender() function we will apply the codes as pursues. \n",
    "\n",
    "\"getData\" extracts the training data from eval_sets and passes it on to the recommender() method like this:"
   ]
  },
  {
   "cell_type": "code",
   "execution_count": 339,
   "metadata": {
    "scrolled": true
   },
   "outputs": [
    {
     "data": {
      "text/plain": [
       "2475 x 100 rating matrix of class 'realRatingMatrix' with 209286 ratings."
      ]
     },
     "metadata": {},
     "output_type": "display_data"
    }
   ],
   "source": [
    "getData(eval_sets,\"train\")"
   ]
  },
  {
   "cell_type": "markdown",
   "metadata": {},
   "source": [
    "By reason of we used 4-folds cross-validation, the recommender() function is going to use 3 sets as training set and 1 set as test set"
   ]
  },
  {
   "cell_type": "code",
   "execution_count": 340,
   "metadata": {},
   "outputs": [],
   "source": [
    "eval_recommender <- Recommender(data = getData(eval_sets, \"train\"), method = model_to_evaluate, parameter = model_parameters)\n",
    "#setting the number of items to be set for recommendations\n",
    "items_to_recommend <- 20"
   ]
  },
  {
   "cell_type": "markdown",
   "metadata": {},
   "source": [
    "As we did earlier, we will use the predict() function to develop the predictions"
   ]
  },
  {
   "cell_type": "code",
   "execution_count": 341,
   "metadata": {},
   "outputs": [
    {
     "data": {
      "text/html": [
       "'realRatingMatrix'"
      ],
      "text/latex": [
       "'realRatingMatrix'"
      ],
      "text/markdown": [
       "'realRatingMatrix'"
      ],
      "text/plain": [
       "[1] \"realRatingMatrix\"\n",
       "attr(,\"package\")\n",
       "[1] \"recommenderlab\""
      ]
     },
     "metadata": {},
     "output_type": "display_data"
    }
   ],
   "source": [
    "eval_prediction = predict(object = eval_recommender, newdata = getData(eval_sets, \"known\"), n = items_to_recommend, \n",
    "                          type = \"ratings\")\n",
    "class(eval_prediction)"
   ]
  },
  {
   "cell_type": "markdown",
   "metadata": {},
   "source": [
    "### 4. Accuracy of the Model\n",
    "\n",
    "We will perceive how to assess the model accuracy for the forecasts made on the \"known\" set of test information from eval_sets. We utilize the calcPredictionAccuracy() function to compute the forecast accuracy."
   ]
  },
  {
   "cell_type": "code",
   "execution_count": 342,
   "metadata": {},
   "outputs": [],
   "source": [
    "eval_accuracy <- calcPredictionAccuracy(x = eval_prediction, data = getData(eval_sets, \"unknown\"), byUser = TRUE)"
   ]
  },
  {
   "cell_type": "markdown",
   "metadata": {},
   "source": [
    "The format of using byUser = TRUE calculates the accuracy for each user. We are passing the unknown dataset because we are going to calulate the accuracy for the \"known\" set"
   ]
  },
  {
   "cell_type": "code",
   "execution_count": 343,
   "metadata": {},
   "outputs": [
    {
     "data": {
      "text/html": [
       "<table>\n",
       "<caption>A matrix: 6 × 3 of type dbl[,3]</caption>\n",
       "<thead>\n",
       "\t<tr><th></th><th scope=col>RMSE</th><th scope=col>MSE</th><th scope=col>MAE</th></tr>\n",
       "</thead>\n",
       "<tbody>\n",
       "\t<tr><th scope=row>u15547</th><td>4.641288</td><td>21.54156</td><td>3.982811</td></tr>\n",
       "\t<tr><th scope=row>u15994</th><td>5.227975</td><td>27.33172</td><td>4.331063</td></tr>\n",
       "\t<tr><th scope=row>u17322</th><td>5.818398</td><td>33.85376</td><td>4.686194</td></tr>\n",
       "\t<tr><th scope=row>u7299</th><td>4.729074</td><td>22.36414</td><td>3.811318</td></tr>\n",
       "\t<tr><th scope=row>u6662</th><td>6.067747</td><td>36.81755</td><td>5.288377</td></tr>\n",
       "\t<tr><th scope=row>u3970</th><td>6.534409</td><td>42.69850</td><td>5.570576</td></tr>\n",
       "</tbody>\n",
       "</table>\n"
      ],
      "text/latex": [
       "A matrix: 6 × 3 of type dbl{[},3{]}\n",
       "\\begin{tabular}{r|lll}\n",
       "  & RMSE & MSE & MAE\\\\\n",
       "\\hline\n",
       "\tu15547 & 4.641288 & 21.54156 & 3.982811\\\\\n",
       "\tu15994 & 5.227975 & 27.33172 & 4.331063\\\\\n",
       "\tu17322 & 5.818398 & 33.85376 & 4.686194\\\\\n",
       "\tu7299 & 4.729074 & 22.36414 & 3.811318\\\\\n",
       "\tu6662 & 6.067747 & 36.81755 & 5.288377\\\\\n",
       "\tu3970 & 6.534409 & 42.69850 & 5.570576\\\\\n",
       "\\end{tabular}\n"
      ],
      "text/markdown": [
       "\n",
       "A matrix: 6 × 3 of type dbl[,3]\n",
       "\n",
       "| <!--/--> | RMSE | MSE | MAE |\n",
       "|---|---|---|---|\n",
       "| u15547 | 4.641288 | 21.54156 | 3.982811 |\n",
       "| u15994 | 5.227975 | 27.33172 | 4.331063 |\n",
       "| u17322 | 5.818398 | 33.85376 | 4.686194 |\n",
       "| u7299 | 4.729074 | 22.36414 | 3.811318 |\n",
       "| u6662 | 6.067747 | 36.81755 | 5.288377 |\n",
       "| u3970 | 6.534409 | 42.69850 | 5.570576 |\n",
       "\n"
      ],
      "text/plain": [
       "       RMSE     MSE      MAE     \n",
       "u15547 4.641288 21.54156 3.982811\n",
       "u15994 5.227975 27.33172 4.331063\n",
       "u17322 5.818398 33.85376 4.686194\n",
       "u7299  4.729074 22.36414 3.811318\n",
       "u6662  6.067747 36.81755 5.288377\n",
       "u3970  6.534409 42.69850 5.570576"
      ]
     },
     "metadata": {},
     "output_type": "display_data"
    }
   ],
   "source": [
    "head(eval_accuracy)"
   ]
  },
  {
   "cell_type": "code",
   "execution_count": 344,
   "metadata": {},
   "outputs": [
    {
     "data": {
      "text/html": [
       "<dl class=dl-horizontal>\n",
       "\t<dt>RMSE</dt>\n",
       "\t\t<dd>4.85345762257321</dd>\n",
       "\t<dt>MSE</dt>\n",
       "\t\t<dd>25.5084977844772</dd>\n",
       "\t<dt>MAE</dt>\n",
       "\t\t<dd>4.02033406482628</dd>\n",
       "</dl>\n"
      ],
      "text/latex": [
       "\\begin{description*}\n",
       "\\item[RMSE] 4.85345762257321\n",
       "\\item[MSE] 25.5084977844772\n",
       "\\item[MAE] 4.02033406482628\n",
       "\\end{description*}\n"
      ],
      "text/markdown": [
       "RMSE\n",
       ":   4.85345762257321MSE\n",
       ":   25.5084977844772MAE\n",
       ":   4.02033406482628\n",
       "\n"
      ],
      "text/plain": [
       "     RMSE       MSE       MAE \n",
       " 4.853458 25.508498  4.020334 "
      ]
     },
     "metadata": {},
     "output_type": "display_data"
    }
   ],
   "source": [
    "### The accuracy of the whole model\n",
    "apply(eval_accuracy,2,mean)"
   ]
  },
  {
   "cell_type": "markdown",
   "metadata": {},
   "source": [
    "By addressing byUser=FALSE we can compute the model accuracy for the whole model:"
   ]
  },
  {
   "cell_type": "code",
   "execution_count": 345,
   "metadata": {},
   "outputs": [
    {
     "data": {
      "text/html": [
       "<dl class=dl-horizontal>\n",
       "\t<dt>RMSE</dt>\n",
       "\t\t<dd>5.05363091194475</dd>\n",
       "\t<dt>MSE</dt>\n",
       "\t\t<dd>25.5391853941635</dd>\n",
       "\t<dt>MAE</dt>\n",
       "\t\t<dd>4.01783924770457</dd>\n",
       "</dl>\n"
      ],
      "text/latex": [
       "\\begin{description*}\n",
       "\\item[RMSE] 5.05363091194475\n",
       "\\item[MSE] 25.5391853941635\n",
       "\\item[MAE] 4.01783924770457\n",
       "\\end{description*}\n"
      ],
      "text/markdown": [
       "RMSE\n",
       ":   5.05363091194475MSE\n",
       ":   25.5391853941635MAE\n",
       ":   4.01783924770457\n",
       "\n"
      ],
      "text/plain": [
       "     RMSE       MSE       MAE \n",
       " 5.053631 25.539185  4.017839 "
      ]
     },
     "metadata": {},
     "output_type": "display_data"
    }
   ],
   "source": [
    "eval_accuracy <- calcPredictionAccuracy(x = eval_prediction, data = getData(eval_sets, \"unknown\"), byUser = FALSE)\n",
    "eval_accuracy"
   ]
  },
  {
   "cell_type": "markdown",
   "metadata": {},
   "source": [
    "### 5. Model Accuracy With Plots"
   ]
  },
  {
   "cell_type": "markdown",
   "metadata": {},
   "source": [
    "To see the model accuracy we are going to use ROC curves as we did in the UBCF section. These graphs help us to choose the exchange off between Precision-Recall while picking the parameters we use for the recommender models.\n",
    "\n",
    "The function evaluates () will calculate the similarities using the k-nearest neighbors method."
   ]
  },
  {
   "cell_type": "code",
   "execution_count": 368,
   "metadata": {},
   "outputs": [
    {
     "name": "stdout",
     "output_type": "stream",
     "text": [
      "IBCF run fold/sample [model time/prediction time]\n",
      "\t 1  [0.2sec/0.2sec] \n",
      "\t 2  [0.19sec/0.17sec] \n",
      "\t 3  [0.17sec/0.15sec] \n",
      "\t 4  [0.17sec/0.15sec] \n"
     ]
    }
   ],
   "source": [
    "result = evaluate(x = eval_sets, method = model_to_evaluate, n = seq(1,100,5))"
   ]
  },
  {
   "cell_type": "code",
   "execution_count": 369,
   "metadata": {},
   "outputs": [
    {
     "data": {
      "text/plain": [
       "[[1]]\n",
       "An object of class \"confusionMatrix\"\n",
       "Slot \"cm\":\n",
       "          TP        FP           FN          TN precision     recall        TPR\n",
       "1   0.240000  0.760000 22.558787879 56.44121212 0.2400000 0.01088367 0.01088367\n",
       "6   1.538182  4.461818 21.260606061 52.73939394 0.2563636 0.06731554 0.06731554\n",
       "11  2.875152  8.124848 19.923636364 49.07636364 0.2613774 0.12502336 0.12502336\n",
       "16  4.345455 11.654545 18.453333333 45.54666667 0.2715909 0.18731164 0.18731164\n",
       "21  5.861818 15.138182 16.936969697 42.06303030 0.2791342 0.25596949 0.25596949\n",
       "26  7.370909 18.629091 15.427878788 38.57212121 0.2834965 0.32372602 0.32372602\n",
       "31  8.939394 22.060606 13.859393939 35.14060606 0.2883675 0.39382005 0.39382005\n",
       "36 10.538182 25.461818 12.260606061 31.73939394 0.2927273 0.46776368 0.46776368\n",
       "41 12.179394 28.820606 10.619393939 28.38060606 0.2970584 0.54389227 0.54389227\n",
       "46 13.704242 32.295758  9.094545455 24.90545455 0.2979183 0.61164469 0.61164469\n",
       "51 15.223030 35.776970  7.575757576 21.42424242 0.2984908 0.67585871 0.67585871\n",
       "56 16.710303 39.289697  6.088484848 17.91151515 0.2983983 0.74450466 0.74450466\n",
       "61 18.111515 42.888485  4.687272727 14.31272727 0.2969101 0.80204841 0.80204841\n",
       "66 19.476364 46.523636  3.322424242 10.67757576 0.2950964 0.86156832 0.86156832\n",
       "71 20.716364 50.283636  2.082424242  6.91757576 0.2917798 0.91349680 0.91349680\n",
       "76 21.892121 54.107879  0.906666667  3.09333333 0.2880542 0.96178900 0.96178900\n",
       "81 22.793939 57.180606  0.004848485  0.02060606 0.2849912 0.99984595 0.99984595\n",
       "86 22.793939 57.180606  0.004848485  0.02060606 0.2849912 0.99984595 0.99984595\n",
       "91 22.793939 57.180606  0.004848485  0.02060606 0.2849912 0.99984595 0.99984595\n",
       "96 22.793939 57.180606  0.004848485  0.02060606 0.2849912 0.99984595 0.99984595\n",
       "          FPR\n",
       "1  0.01337180\n",
       "6  0.07825295\n",
       "11 0.14241244\n",
       "16 0.20334823\n",
       "21 0.26461643\n",
       "26 0.32556783\n",
       "31 0.38496235\n",
       "36 0.44414997\n",
       "41 0.50207309\n",
       "46 0.56244935\n",
       "51 0.62259730\n",
       "56 0.68392453\n",
       "61 0.74688961\n",
       "66 0.81085095\n",
       "71 0.87705423\n",
       "76 0.94478349\n",
       "81 0.99969608\n",
       "86 0.99969608\n",
       "91 0.99969608\n",
       "96 0.99969608\n",
       "\n",
       "Slot \"model\":\n",
       "NULL\n",
       "\n"
      ]
     },
     "metadata": {},
     "output_type": "display_data"
    }
   ],
   "source": [
    "### Accuracy of the model for each fold\n",
    "head(result@results[1])"
   ]
  },
  {
   "cell_type": "code",
   "execution_count": 394,
   "metadata": {},
   "outputs": [
    {
     "data": {
      "text/html": [
       "<table>\n",
       "<caption>A matrix: 20 × 6 of type dbl[,6]</caption>\n",
       "<thead>\n",
       "\t<tr><th></th><th scope=col>TP</th><th scope=col>FP</th><th scope=col>FN</th><th scope=col>TN</th><th scope=col>precision</th><th scope=col>recall</th></tr>\n",
       "</thead>\n",
       "<tbody>\n",
       "\t<tr><th scope=row>1</th><td> 1.013333</td><td>  2.986667</td><td>90.99393939</td><td>225.0060606</td><td>1.013333</td><td>0.04245248</td></tr>\n",
       "\t<tr><th scope=row>6</th><td> 6.186667</td><td> 17.813333</td><td>85.82060606</td><td>210.1793939</td><td>1.031111</td><td>0.25964962</td></tr>\n",
       "\t<tr><th scope=row>11</th><td>11.781818</td><td> 32.218182</td><td>80.22545455</td><td>195.7745455</td><td>1.071074</td><td>0.49973987</td></tr>\n",
       "\t<tr><th scope=row>16</th><td>17.609697</td><td> 46.390303</td><td>74.39757576</td><td>181.6024242</td><td>1.100606</td><td>0.74760188</td></tr>\n",
       "\t<tr><th scope=row>21</th><td>23.735758</td><td> 60.264242</td><td>68.27151515</td><td>167.7284848</td><td>1.130274</td><td>1.02010788</td></tr>\n",
       "\t<tr><th scope=row>26</th><td>30.015758</td><td> 73.984242</td><td>61.99151515</td><td>154.0084848</td><td>1.154452</td><td>1.30889763</td></tr>\n",
       "\t<tr><th scope=row>31</th><td>36.352727</td><td> 87.647273</td><td>55.65454545</td><td>140.3454545</td><td>1.172669</td><td>1.59709248</td></tr>\n",
       "\t<tr><th scope=row>36</th><td>42.499394</td><td>101.500606</td><td>49.50787879</td><td>126.4921212</td><td>1.180539</td><td>1.87435137</td></tr>\n",
       "\t<tr><th scope=row>41</th><td>48.791515</td><td>115.208485</td><td>43.21575758</td><td>112.7842424</td><td>1.190037</td><td>2.15568913</td></tr>\n",
       "\t<tr><th scope=row>46</th><td>55.012121</td><td>128.987879</td><td>36.99515152</td><td> 99.0048485</td><td>1.195916</td><td>2.43156426</td></tr>\n",
       "\t<tr><th scope=row>51</th><td>61.170909</td><td>142.829091</td><td>30.83636364</td><td> 85.1636364</td><td>1.199430</td><td>2.69774233</td></tr>\n",
       "\t<tr><th scope=row>56</th><td>67.025455</td><td>156.974545</td><td>24.98181818</td><td> 71.0181818</td><td>1.196883</td><td>2.95345052</td></tr>\n",
       "\t<tr><th scope=row>61</th><td>72.738182</td><td>171.261818</td><td>19.26909091</td><td> 56.7309091</td><td>1.192429</td><td>3.19725039</td></tr>\n",
       "\t<tr><th scope=row>66</th><td>78.231515</td><td>185.768485</td><td>13.77575758</td><td> 42.2242424</td><td>1.185326</td><td>3.43427218</td></tr>\n",
       "\t<tr><th scope=row>71</th><td>83.402424</td><td>200.597576</td><td> 8.60484848</td><td> 27.3951515</td><td>1.174682</td><td>3.64723061</td></tr>\n",
       "\t<tr><th scope=row>76</th><td>88.266667</td><td>215.732121</td><td> 3.74060606</td><td> 12.2606061</td><td>1.161411</td><td>3.84748619</td></tr>\n",
       "\t<tr><th scope=row>81</th><td>91.987879</td><td>227.877576</td><td> 0.01939394</td><td>  0.1151515</td><td>1.150247</td><td>3.99918865</td></tr>\n",
       "\t<tr><th scope=row>86</th><td>91.987879</td><td>227.877576</td><td> 0.01939394</td><td>  0.1151515</td><td>1.150247</td><td>3.99918865</td></tr>\n",
       "\t<tr><th scope=row>91</th><td>91.987879</td><td>227.877576</td><td> 0.01939394</td><td>  0.1151515</td><td>1.150247</td><td>3.99918865</td></tr>\n",
       "\t<tr><th scope=row>96</th><td>91.987879</td><td>227.877576</td><td> 0.01939394</td><td>  0.1151515</td><td>1.150247</td><td>3.99918865</td></tr>\n",
       "</tbody>\n",
       "</table>\n"
      ],
      "text/latex": [
       "A matrix: 20 × 6 of type dbl{[},6{]}\n",
       "\\begin{tabular}{r|llllll}\n",
       "  & TP & FP & FN & TN & precision & recall\\\\\n",
       "\\hline\n",
       "\t1 &  1.013333 &   2.986667 & 90.99393939 & 225.0060606 & 1.013333 & 0.04245248\\\\\n",
       "\t6 &  6.186667 &  17.813333 & 85.82060606 & 210.1793939 & 1.031111 & 0.25964962\\\\\n",
       "\t11 & 11.781818 &  32.218182 & 80.22545455 & 195.7745455 & 1.071074 & 0.49973987\\\\\n",
       "\t16 & 17.609697 &  46.390303 & 74.39757576 & 181.6024242 & 1.100606 & 0.74760188\\\\\n",
       "\t21 & 23.735758 &  60.264242 & 68.27151515 & 167.7284848 & 1.130274 & 1.02010788\\\\\n",
       "\t26 & 30.015758 &  73.984242 & 61.99151515 & 154.0084848 & 1.154452 & 1.30889763\\\\\n",
       "\t31 & 36.352727 &  87.647273 & 55.65454545 & 140.3454545 & 1.172669 & 1.59709248\\\\\n",
       "\t36 & 42.499394 & 101.500606 & 49.50787879 & 126.4921212 & 1.180539 & 1.87435137\\\\\n",
       "\t41 & 48.791515 & 115.208485 & 43.21575758 & 112.7842424 & 1.190037 & 2.15568913\\\\\n",
       "\t46 & 55.012121 & 128.987879 & 36.99515152 &  99.0048485 & 1.195916 & 2.43156426\\\\\n",
       "\t51 & 61.170909 & 142.829091 & 30.83636364 &  85.1636364 & 1.199430 & 2.69774233\\\\\n",
       "\t56 & 67.025455 & 156.974545 & 24.98181818 &  71.0181818 & 1.196883 & 2.95345052\\\\\n",
       "\t61 & 72.738182 & 171.261818 & 19.26909091 &  56.7309091 & 1.192429 & 3.19725039\\\\\n",
       "\t66 & 78.231515 & 185.768485 & 13.77575758 &  42.2242424 & 1.185326 & 3.43427218\\\\\n",
       "\t71 & 83.402424 & 200.597576 &  8.60484848 &  27.3951515 & 1.174682 & 3.64723061\\\\\n",
       "\t76 & 88.266667 & 215.732121 &  3.74060606 &  12.2606061 & 1.161411 & 3.84748619\\\\\n",
       "\t81 & 91.987879 & 227.877576 &  0.01939394 &   0.1151515 & 1.150247 & 3.99918865\\\\\n",
       "\t86 & 91.987879 & 227.877576 &  0.01939394 &   0.1151515 & 1.150247 & 3.99918865\\\\\n",
       "\t91 & 91.987879 & 227.877576 &  0.01939394 &   0.1151515 & 1.150247 & 3.99918865\\\\\n",
       "\t96 & 91.987879 & 227.877576 &  0.01939394 &   0.1151515 & 1.150247 & 3.99918865\\\\\n",
       "\\end{tabular}\n"
      ],
      "text/markdown": [
       "\n",
       "A matrix: 20 × 6 of type dbl[,6]\n",
       "\n",
       "| <!--/--> | TP | FP | FN | TN | precision | recall |\n",
       "|---|---|---|---|---|---|---|\n",
       "| 1 |  1.013333 |   2.986667 | 90.99393939 | 225.0060606 | 1.013333 | 0.04245248 |\n",
       "| 6 |  6.186667 |  17.813333 | 85.82060606 | 210.1793939 | 1.031111 | 0.25964962 |\n",
       "| 11 | 11.781818 |  32.218182 | 80.22545455 | 195.7745455 | 1.071074 | 0.49973987 |\n",
       "| 16 | 17.609697 |  46.390303 | 74.39757576 | 181.6024242 | 1.100606 | 0.74760188 |\n",
       "| 21 | 23.735758 |  60.264242 | 68.27151515 | 167.7284848 | 1.130274 | 1.02010788 |\n",
       "| 26 | 30.015758 |  73.984242 | 61.99151515 | 154.0084848 | 1.154452 | 1.30889763 |\n",
       "| 31 | 36.352727 |  87.647273 | 55.65454545 | 140.3454545 | 1.172669 | 1.59709248 |\n",
       "| 36 | 42.499394 | 101.500606 | 49.50787879 | 126.4921212 | 1.180539 | 1.87435137 |\n",
       "| 41 | 48.791515 | 115.208485 | 43.21575758 | 112.7842424 | 1.190037 | 2.15568913 |\n",
       "| 46 | 55.012121 | 128.987879 | 36.99515152 |  99.0048485 | 1.195916 | 2.43156426 |\n",
       "| 51 | 61.170909 | 142.829091 | 30.83636364 |  85.1636364 | 1.199430 | 2.69774233 |\n",
       "| 56 | 67.025455 | 156.974545 | 24.98181818 |  71.0181818 | 1.196883 | 2.95345052 |\n",
       "| 61 | 72.738182 | 171.261818 | 19.26909091 |  56.7309091 | 1.192429 | 3.19725039 |\n",
       "| 66 | 78.231515 | 185.768485 | 13.77575758 |  42.2242424 | 1.185326 | 3.43427218 |\n",
       "| 71 | 83.402424 | 200.597576 |  8.60484848 |  27.3951515 | 1.174682 | 3.64723061 |\n",
       "| 76 | 88.266667 | 215.732121 |  3.74060606 |  12.2606061 | 1.161411 | 3.84748619 |\n",
       "| 81 | 91.987879 | 227.877576 |  0.01939394 |   0.1151515 | 1.150247 | 3.99918865 |\n",
       "| 86 | 91.987879 | 227.877576 |  0.01939394 |   0.1151515 | 1.150247 | 3.99918865 |\n",
       "| 91 | 91.987879 | 227.877576 |  0.01939394 |   0.1151515 | 1.150247 | 3.99918865 |\n",
       "| 96 | 91.987879 | 227.877576 |  0.01939394 |   0.1151515 | 1.150247 | 3.99918865 |\n",
       "\n"
      ],
      "text/plain": [
       "   TP        FP         FN          TN          precision recall    \n",
       "1   1.013333   2.986667 90.99393939 225.0060606 1.013333  0.04245248\n",
       "6   6.186667  17.813333 85.82060606 210.1793939 1.031111  0.25964962\n",
       "11 11.781818  32.218182 80.22545455 195.7745455 1.071074  0.49973987\n",
       "16 17.609697  46.390303 74.39757576 181.6024242 1.100606  0.74760188\n",
       "21 23.735758  60.264242 68.27151515 167.7284848 1.130274  1.02010788\n",
       "26 30.015758  73.984242 61.99151515 154.0084848 1.154452  1.30889763\n",
       "31 36.352727  87.647273 55.65454545 140.3454545 1.172669  1.59709248\n",
       "36 42.499394 101.500606 49.50787879 126.4921212 1.180539  1.87435137\n",
       "41 48.791515 115.208485 43.21575758 112.7842424 1.190037  2.15568913\n",
       "46 55.012121 128.987879 36.99515152  99.0048485 1.195916  2.43156426\n",
       "51 61.170909 142.829091 30.83636364  85.1636364 1.199430  2.69774233\n",
       "56 67.025455 156.974545 24.98181818  71.0181818 1.196883  2.95345052\n",
       "61 72.738182 171.261818 19.26909091  56.7309091 1.192429  3.19725039\n",
       "66 78.231515 185.768485 13.77575758  42.2242424 1.185326  3.43427218\n",
       "71 83.402424 200.597576  8.60484848  27.3951515 1.174682  3.64723061\n",
       "76 88.266667 215.732121  3.74060606  12.2606061 1.161411  3.84748619\n",
       "81 91.987879 227.877576  0.01939394   0.1151515 1.150247  3.99918865\n",
       "86 91.987879 227.877576  0.01939394   0.1151515 1.150247  3.99918865\n",
       "91 91.987879 227.877576  0.01939394   0.1151515 1.150247  3.99918865\n",
       "96 91.987879 227.877576  0.01939394   0.1151515 1.150247  3.99918865"
      ]
     },
     "metadata": {},
     "output_type": "display_data"
    }
   ],
   "source": [
    "columns_sum = c(\"TP\",\"FP\",\"FN\",\"TN\",\"precision\",\"recall\") ### to sum all the fold results\n",
    "indices_sum = Reduce(\"+\", getConfusionMatrix(result))[,columns_sum]\n",
    "indices_sum"
   ]
  },
  {
   "cell_type": "code",
   "execution_count": 395,
   "metadata": {},
   "outputs": [
    {
     "data": {
      "image/png": "[encoded data removed]",
      "text/plain": [
       "Plot with title \"ROC Curve\""
      ]
     },
     "metadata": {},
     "output_type": "display_data"
    }
   ],
   "source": [
    "plot(result, annotate = TRUE, main = \"ROC Curve\")"
   ]
  },
  {
   "cell_type": "code",
   "execution_count": 396,
   "metadata": {},
   "outputs": [
    {
     "data": {
      "image/png": "[encoded data removed]",
      "text/plain": [
       "Plot with title \"Precision-Recall\""
      ]
     },
     "metadata": {},
     "output_type": "display_data"
    }
   ],
   "source": [
    "plot(result, \"prec/rec\",annotate = TRUE, main =\"Precision-Recall\")"
   ]
  },
  {
   "cell_type": "markdown",
   "metadata": {},
   "source": [
    "### 6. Setting Parameter for Item-based Collaborative Filtering\n",
    "\n",
    "During building the IBCF model, there are some spots that we can select the ideal values before generating the recommendations\n",
    "- We need to pick, the ideal number of neighbors for computing the likenesses between things \n",
    "\n",
    "- Similarity method to be utilized, regardless of whether it is the cosine or Pearson technique"
   ]
  },
  {
   "cell_type": "code",
   "execution_count": 420,
   "metadata": {},
   "outputs": [
    {
     "data": {
      "text/html": [
       "<ol class=list-inline>\n",
       "\t<li>'IBCF_cos_k_3'</li>\n",
       "\t<li>'IBCF_cos_k_5'</li>\n",
       "\t<li>'IBCF_cos_k_7'</li>\n",
       "</ol>\n"
      ],
      "text/latex": [
       "\\begin{enumerate*}\n",
       "\\item 'IBCF\\_cos\\_k\\_3'\n",
       "\\item 'IBCF\\_cos\\_k\\_5'\n",
       "\\item 'IBCF\\_cos\\_k\\_7'\n",
       "\\end{enumerate*}\n"
      ],
      "text/markdown": [
       "1. 'IBCF_cos_k_3'\n",
       "2. 'IBCF_cos_k_5'\n",
       "3. 'IBCF_cos_k_7'\n",
       "\n",
       "\n"
      ],
      "text/plain": [
       "[1] \"IBCF_cos_k_3\" \"IBCF_cos_k_5\" \"IBCF_cos_k_7\""
      ]
     },
     "metadata": {},
     "output_type": "display_data"
    }
   ],
   "source": [
    "vector_k = c(3, 5, 7) ### To set different k-values\n",
    "model_1 = lapply(vector_k,function(k,l){list(name = \"IBCF\", param = list(method = \"cosine\", k=k))})\n",
    "names(model_1) = paste0(\"IBCF_cos_k_\",vector_k)\n",
    "names(model_1)"
   ]
  },
  {
   "cell_type": "code",
   "execution_count": 421,
   "metadata": {},
   "outputs": [
    {
     "data": {
      "text/html": [
       "<ol class=list-inline>\n",
       "\t<li>'IBCF_pearson_k_3'</li>\n",
       "\t<li>'IBCF_pearson_k_5'</li>\n",
       "\t<li>'IBCF_pearson_k_7'</li>\n",
       "</ol>\n"
      ],
      "text/latex": [
       "\\begin{enumerate*}\n",
       "\\item 'IBCF\\_pearson\\_k\\_3'\n",
       "\\item 'IBCF\\_pearson\\_k\\_5'\n",
       "\\item 'IBCF\\_pearson\\_k\\_7'\n",
       "\\end{enumerate*}\n"
      ],
      "text/markdown": [
       "1. 'IBCF_pearson_k_3'\n",
       "2. 'IBCF_pearson_k_5'\n",
       "3. 'IBCF_pearson_k_7'\n",
       "\n",
       "\n"
      ],
      "text/plain": [
       "[1] \"IBCF_pearson_k_3\" \"IBCF_pearson_k_5\" \"IBCF_pearson_k_7\""
      ]
     },
     "metadata": {},
     "output_type": "display_data"
    }
   ],
   "source": [
    "model_2 = lapply(vector_k, function(k,l){list(name = \"IBCF\",\n",
    "                                   param = \"pearson\", k=k)})\n",
    "names(model_2) = paste0(\"IBCF_pearson_k_\",vector_k)\n",
    "names(model_2)"
   ]
  },
  {
   "cell_type": "code",
   "execution_count": 422,
   "metadata": {},
   "outputs": [
    {
     "data": {
      "text/html": [
       "<dl>\n",
       "\t<dt>$IBCF_cos_k_3</dt>\n",
       "\t\t<dd><dl>\n",
       "\t<dt>$name</dt>\n",
       "\t\t<dd>'IBCF'</dd>\n",
       "\t<dt>$param</dt>\n",
       "\t\t<dd><dl>\n",
       "\t<dt>$method</dt>\n",
       "\t\t<dd>'cosine'</dd>\n",
       "\t<dt>$k</dt>\n",
       "\t\t<dd>3</dd>\n",
       "</dl>\n",
       "</dd>\n",
       "</dl>\n",
       "</dd>\n",
       "\t<dt>$IBCF_cos_k_5</dt>\n",
       "\t\t<dd><dl>\n",
       "\t<dt>$name</dt>\n",
       "\t\t<dd>'IBCF'</dd>\n",
       "\t<dt>$param</dt>\n",
       "\t\t<dd><dl>\n",
       "\t<dt>$method</dt>\n",
       "\t\t<dd>'cosine'</dd>\n",
       "\t<dt>$k</dt>\n",
       "\t\t<dd>5</dd>\n",
       "</dl>\n",
       "</dd>\n",
       "</dl>\n",
       "</dd>\n",
       "\t<dt>$IBCF_cos_k_7</dt>\n",
       "\t\t<dd><dl>\n",
       "\t<dt>$name</dt>\n",
       "\t\t<dd>'IBCF'</dd>\n",
       "\t<dt>$param</dt>\n",
       "\t\t<dd><dl>\n",
       "\t<dt>$method</dt>\n",
       "\t\t<dd>'cosine'</dd>\n",
       "\t<dt>$k</dt>\n",
       "\t\t<dd>7</dd>\n",
       "</dl>\n",
       "</dd>\n",
       "</dl>\n",
       "</dd>\n",
       "\t<dt>$IBCF_pearson_k_3</dt>\n",
       "\t\t<dd><dl>\n",
       "\t<dt>$name</dt>\n",
       "\t\t<dd>'IBCF'</dd>\n",
       "\t<dt>$param</dt>\n",
       "\t\t<dd>'pearson'</dd>\n",
       "\t<dt>$k</dt>\n",
       "\t\t<dd>3</dd>\n",
       "</dl>\n",
       "</dd>\n",
       "\t<dt>$IBCF_pearson_k_5</dt>\n",
       "\t\t<dd><dl>\n",
       "\t<dt>$name</dt>\n",
       "\t\t<dd>'IBCF'</dd>\n",
       "\t<dt>$param</dt>\n",
       "\t\t<dd>'pearson'</dd>\n",
       "\t<dt>$k</dt>\n",
       "\t\t<dd>5</dd>\n",
       "</dl>\n",
       "</dd>\n",
       "\t<dt>$IBCF_pearson_k_7</dt>\n",
       "\t\t<dd><dl>\n",
       "\t<dt>$name</dt>\n",
       "\t\t<dd>'IBCF'</dd>\n",
       "\t<dt>$param</dt>\n",
       "\t\t<dd>'pearson'</dd>\n",
       "\t<dt>$k</dt>\n",
       "\t\t<dd>7</dd>\n",
       "</dl>\n",
       "</dd>\n",
       "</dl>\n"
      ],
      "text/latex": [
       "\\begin{description}\n",
       "\\item[\\$IBCF\\_cos\\_k\\_3] \\begin{description}\n",
       "\\item[\\$name] 'IBCF'\n",
       "\\item[\\$param] \\begin{description}\n",
       "\\item[\\$method] 'cosine'\n",
       "\\item[\\$k] 3\n",
       "\\end{description}\n",
       "\n",
       "\\end{description}\n",
       "\n",
       "\\item[\\$IBCF\\_cos\\_k\\_5] \\begin{description}\n",
       "\\item[\\$name] 'IBCF'\n",
       "\\item[\\$param] \\begin{description}\n",
       "\\item[\\$method] 'cosine'\n",
       "\\item[\\$k] 5\n",
       "\\end{description}\n",
       "\n",
       "\\end{description}\n",
       "\n",
       "\\item[\\$IBCF\\_cos\\_k\\_7] \\begin{description}\n",
       "\\item[\\$name] 'IBCF'\n",
       "\\item[\\$param] \\begin{description}\n",
       "\\item[\\$method] 'cosine'\n",
       "\\item[\\$k] 7\n",
       "\\end{description}\n",
       "\n",
       "\\end{description}\n",
       "\n",
       "\\item[\\$IBCF\\_pearson\\_k\\_3] \\begin{description}\n",
       "\\item[\\$name] 'IBCF'\n",
       "\\item[\\$param] 'pearson'\n",
       "\\item[\\$k] 3\n",
       "\\end{description}\n",
       "\n",
       "\\item[\\$IBCF\\_pearson\\_k\\_5] \\begin{description}\n",
       "\\item[\\$name] 'IBCF'\n",
       "\\item[\\$param] 'pearson'\n",
       "\\item[\\$k] 5\n",
       "\\end{description}\n",
       "\n",
       "\\item[\\$IBCF\\_pearson\\_k\\_7] \\begin{description}\n",
       "\\item[\\$name] 'IBCF'\n",
       "\\item[\\$param] 'pearson'\n",
       "\\item[\\$k] 7\n",
       "\\end{description}\n",
       "\n",
       "\\end{description}\n"
      ],
      "text/markdown": [
       "$IBCF_cos_k_3\n",
       ":   $name\n",
       ":   'IBCF'\n",
       "$param\n",
       ":   $method\n",
       ":   'cosine'\n",
       "$k\n",
       ":   3\n",
       "\n",
       "\n",
       "\n",
       "\n",
       "\n",
       "\n",
       "$IBCF_cos_k_5\n",
       ":   $name\n",
       ":   'IBCF'\n",
       "$param\n",
       ":   $method\n",
       ":   'cosine'\n",
       "$k\n",
       ":   5\n",
       "\n",
       "\n",
       "\n",
       "\n",
       "\n",
       "\n",
       "$IBCF_cos_k_7\n",
       ":   $name\n",
       ":   'IBCF'\n",
       "$param\n",
       ":   $method\n",
       ":   'cosine'\n",
       "$k\n",
       ":   7\n",
       "\n",
       "\n",
       "\n",
       "\n",
       "\n",
       "\n",
       "$IBCF_pearson_k_3\n",
       ":   $name\n",
       ":   'IBCF'\n",
       "$param\n",
       ":   'pearson'\n",
       "$k\n",
       ":   3\n",
       "\n",
       "\n",
       "\n",
       "$IBCF_pearson_k_5\n",
       ":   $name\n",
       ":   'IBCF'\n",
       "$param\n",
       ":   'pearson'\n",
       "$k\n",
       ":   5\n",
       "\n",
       "\n",
       "\n",
       "$IBCF_pearson_k_7\n",
       ":   $name\n",
       ":   'IBCF'\n",
       "$param\n",
       ":   'pearson'\n",
       "$k\n",
       ":   7\n",
       "\n",
       "\n",
       "\n",
       "\n",
       "\n"
      ],
      "text/plain": [
       "$IBCF_cos_k_3\n",
       "$IBCF_cos_k_3$name\n",
       "[1] \"IBCF\"\n",
       "\n",
       "$IBCF_cos_k_3$param\n",
       "$IBCF_cos_k_3$param$method\n",
       "[1] \"cosine\"\n",
       "\n",
       "$IBCF_cos_k_3$param$k\n",
       "[1] 3\n",
       "\n",
       "\n",
       "\n",
       "$IBCF_cos_k_5\n",
       "$IBCF_cos_k_5$name\n",
       "[1] \"IBCF\"\n",
       "\n",
       "$IBCF_cos_k_5$param\n",
       "$IBCF_cos_k_5$param$method\n",
       "[1] \"cosine\"\n",
       "\n",
       "$IBCF_cos_k_5$param$k\n",
       "[1] 5\n",
       "\n",
       "\n",
       "\n",
       "$IBCF_cos_k_7\n",
       "$IBCF_cos_k_7$name\n",
       "[1] \"IBCF\"\n",
       "\n",
       "$IBCF_cos_k_7$param\n",
       "$IBCF_cos_k_7$param$method\n",
       "[1] \"cosine\"\n",
       "\n",
       "$IBCF_cos_k_7$param$k\n",
       "[1] 7\n",
       "\n",
       "\n",
       "\n",
       "$IBCF_pearson_k_3\n",
       "$IBCF_pearson_k_3$name\n",
       "[1] \"IBCF\"\n",
       "\n",
       "$IBCF_pearson_k_3$param\n",
       "[1] \"pearson\"\n",
       "\n",
       "$IBCF_pearson_k_3$k\n",
       "[1] 3\n",
       "\n",
       "\n",
       "$IBCF_pearson_k_5\n",
       "$IBCF_pearson_k_5$name\n",
       "[1] \"IBCF\"\n",
       "\n",
       "$IBCF_pearson_k_5$param\n",
       "[1] \"pearson\"\n",
       "\n",
       "$IBCF_pearson_k_5$k\n",
       "[1] 5\n",
       "\n",
       "\n",
       "$IBCF_pearson_k_7\n",
       "$IBCF_pearson_k_7$name\n",
       "[1] \"IBCF\"\n",
       "\n",
       "$IBCF_pearson_k_7$param\n",
       "[1] \"pearson\"\n",
       "\n",
       "$IBCF_pearson_k_7$k\n",
       "[1] 7\n",
       "\n"
      ]
     },
     "metadata": {},
     "output_type": "display_data"
    }
   ],
   "source": [
    "### Combining all the methods\n",
    "models = append(model_1,model_2)\n",
    "head(models)"
   ]
  },
  {
   "cell_type": "code",
   "execution_count": 423,
   "metadata": {},
   "outputs": [
    {
     "name": "stdout",
     "output_type": "stream",
     "text": [
      "IBCF run fold/sample [model time/prediction time]\n",
      "\t 1  [0.17sec/0.16sec] \n",
      "\t 2  [0.19sec/0.13sec] \n",
      "\t 3  [0.17sec/0.14sec] \n",
      "\t 4  [0.19sec/0.14sec] \n",
      "IBCF run fold/sample [model time/prediction time]\n",
      "\t 1  [0.17sec/0.14sec] \n",
      "\t 2  [0.17sec/0.15sec] \n",
      "\t 3  [0.18sec/0.17sec] \n",
      "\t 4  [0.17sec/0.16sec] \n",
      "IBCF run fold/sample [model time/prediction time]\n",
      "\t 1  [0.17sec/0.17sec] \n",
      "\t 2  [0.17sec/0.15sec] \n",
      "\t 3  [0.17sec/0.18sec] \n",
      "\t 4  [0.17sec/0.16sec] \n",
      "IBCF run fold/sample [model time/prediction time]\n",
      "\t 1  [0.18sec/0.17sec] \n",
      "\t 2  [0.17sec/0.16sec] \n",
      "\t 3  [0.16sec/0.14sec] \n",
      "\t 4  [0.17sec/0.16sec] \n",
      "IBCF run fold/sample [model time/prediction time]\n",
      "\t 1  [0.15sec/0.19sec] \n",
      "\t 2  [0.19sec/0.16sec] \n",
      "\t 3  [0.18sec/0.19sec] \n",
      "\t 4  [0.17sec/0.17sec] \n",
      "IBCF run fold/sample [model time/prediction time]\n",
      "\t 1  [0.16sec/0.19sec] \n",
      "\t 2  [0.18sec/0.16sec] \n",
      "\t 3  [0.17sec/0.19sec] \n",
      "\t 4  [0.2sec/0.17sec] \n"
     ]
    }
   ],
   "source": [
    "### The total number of recommendations\n",
    "number_recommendations = c(1,5, seq(1,100,15))\n",
    "### Building 4-Fold methods\n",
    "list_results = evaluate(x = eval_sets, method = models, n = number_recommendations)"
   ]
  },
  {
   "cell_type": "code",
   "execution_count": 424,
   "metadata": {},
   "outputs": [
    {
     "data": {
      "text/plain": [
       "List of evaluation results for 6 recommenders:\n",
       "Evaluation results for 4 folds/samples using method 'IBCF'.\n",
       "Evaluation results for 4 folds/samples using method 'IBCF'.\n",
       "Evaluation results for 4 folds/samples using method 'IBCF'.\n",
       "Evaluation results for 4 folds/samples using method 'IBCF'.\n",
       "Evaluation results for 4 folds/samples using method 'IBCF'.\n",
       "Evaluation results for 4 folds/samples using method 'IBCF'."
      ]
     },
     "metadata": {},
     "output_type": "display_data"
    }
   ],
   "source": [
    "list_results"
   ]
  },
  {
   "cell_type": "markdown",
   "metadata": {},
   "source": [
    "Plotting the results will help to choose best parameters"
   ]
  },
  {
   "cell_type": "code",
   "execution_count": 438,
   "metadata": {},
   "outputs": [
    {
     "data": {
      "image/png": "[encoded data removed]",
      "text/plain": [
       "Plot with title \"ROC Curve\""
      ]
     },
     "metadata": {},
     "output_type": "display_data"
    }
   ],
   "source": [
    "plot(list_results, annotate = c(1,5), legend = \"topleft\")\n",
    "title(\"ROC Curve\")"
   ]
  },
  {
   "cell_type": "code",
   "execution_count": 439,
   "metadata": {},
   "outputs": [
    {
     "data": {
      "image/png": "[encoded data removed]",
      "text/plain": [
       "Plot with title \"Precision-Recall\""
      ]
     },
     "metadata": {},
     "output_type": "display_data"
    }
   ],
   "source": [
    "plot(list_results, \"prec/rec\", annotate =c(1,5), legend = \"right\")\n",
    "title(\"Precision-Recall\")"
   ]
  },
  {
   "cell_type": "markdown",
   "metadata": {},
   "source": [
    "# IV. Analysis of Results"
   ]
  },
  {
   "cell_type": "markdown",
   "metadata": {},
   "source": [
    "From the preceding ROC plot, we can say that all neighborhoods of Pearson methods have exactly the same behavior. With AUC (Area under the curve) we can easily see that the best methods for IBFC with cosine similarity are with vector_k = 7. Even though cosine vector_k = 7 gives the best model, any Pearson method can be used as a good approach to build an acceptable model. With using the ROC curves, our goal is to understand data and take actions to reduce the FPR rate. In our case reducing <b>False Negative</b> rate is important which is 171.261818 at 61<sup>th</sup> recommendation from confusion matrix which we found 2 sections before.\n",
    "\n",
    "On the other hand, when we analyze the precision-recall plot 61<sup>th</sup> recommendation seems to have the best accuracy. To understand this plot we need to look at the false negative and false positive rates. Precision is fed by false positive rates and recall fed by false negative rates. The best spot for this curve is like the maximum point of a curve which has derivative 0. In this plot again Pearson methods behave the same way and their maximum point is 61 again."
   ]
  },
  {
   "cell_type": "markdown",
   "metadata": {},
   "source": [
    "# V. Refences\n",
    "\n",
    "1. Sharma, Richa & Singh, Rahul. (2016). Evolution of Recommender Systems from Ancient Times to Modern Era: A Survey. Indian Journal of Science and Technology. 9. 10.17485/ijst/2016/v9i20/88005.\n",
    "2. Sharma, Richa & Singh, Rahul. (2016). op. cit.\n",
    "3. Gorakala, S, K. (2016) Building Recommendation Engines. Birmingham, UK: Packt Publishing Ltd.\n",
    "4. Gorakala, S, K. (2016). op. cit.\n",
    "5. Gorakala, S, K. (2016). op. cit.\n",
    "6. Gorakala, S, K. (2016). op. cit.\n",
    "7. Press, W. H.; Flannery, B. P.; Teukolsky, S. A.; and Vetterling, W. T. (1992). \"Singular Value Decomposition.\" §2.6 in Numerical Recipes in FORTRAN: The Art of Scientific Computing, 2nd ed. Cambridge, England: Cambridge University Press.\n",
    "8. Golub, G. H. and Van Loan, C. F. (1996) Matrix Computations. Baltimore, Maryland: The Johns Hopkins University Press. \n",
    "9. Ken Goldberg, Theresa Roeder, Dhruv Gupta, and Chris Perkins. \"Eigentaste: A Constant Time Collaborative Filtering Algorithm.\" Information Retrieval, 4(2), 133-151. July 2001."
   ]
  },
  {
   "cell_type": "code",
   "execution_count": null,
   "metadata": {},
   "outputs": [],
   "source": []
  }
 ],
 "metadata": {
  "kernelspec": {
   "display_name": "R",
   "language": "R",
   "name": "ir"
  },
  "language_info": {
   "codemirror_mode": "r",
   "file_extension": ".r",
   "mimetype": "text/x-r-source",
   "name": "R",
   "pygments_lexer": "r",
   "version": "3.5.1"
  }
 },
 "nbformat": 4,
 "nbformat_minor": 2
}
